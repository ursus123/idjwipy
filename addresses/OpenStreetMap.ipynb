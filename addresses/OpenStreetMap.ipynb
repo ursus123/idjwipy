{
 "cells": [
  {
   "cell_type": "code",
   "execution_count": 6,
   "metadata": {
    "collapsed": true,
    "pycharm": {
     "name": "#%%\n"
    }
   },
   "outputs": [],
   "source": [
    "from OSMPythonTools.api import Api\n",
    "api = Api()\n",
    "way = api.query('way/5887599')\n",
    "from OSMPythonTools.nominatim import Nominatim\n",
    "from OSMPythonTools.overpass import Overpass, overpassQueryBuilder\n",
    "from OSMPythonTools.data import Data, dictRangeYears, ALL\n",
    "\n",
    "from collections import OrderedDict"
   ]
  },
  {
   "cell_type": "code",
   "execution_count": 7,
   "outputs": [],
   "source": [
    "dimensions = OrderedDict([\n",
    "  ('year', dictRangeYears(2013, 2017.5, 1)),\n",
    "  ('city', OrderedDict({\n",
    "    'heidelberg': 'Heidelberg, Germany',\n",
    "    'manhattan': 'Manhattan, New York',\n",
    "    'vienna': 'Vienna, Austria',\n",
    "  })),\n",
    "  ('typeOfRoad', OrderedDict({\n",
    "    'primary': 'primary',\n",
    "    'secondary': 'secondary',\n",
    "    'tertiary': 'tertiary',\n",
    "  })),\n",
    "])"
   ],
   "metadata": {
    "collapsed": false,
    "pycharm": {
     "name": "#%%\n"
    }
   }
  },
  {
   "cell_type": "code",
   "execution_count": 8,
   "outputs": [
    {
     "data": {
      "text/plain": "OrderedDict([('year',\n              OrderedDict([(2013.0, '2013-01-01T00:00:00Z'),\n                           (2014.0, '2014-01-01T00:00:00Z'),\n                           (2015.0, '2015-01-01T00:00:00Z'),\n                           (2016.0, '2016-01-01T00:00:00Z'),\n                           (2017.0, '2017-01-01T00:00:00Z')])),\n             ('city',\n              OrderedDict([('heidelberg', 'Heidelberg, Germany'),\n                           ('manhattan', 'Manhattan, New York'),\n                           ('vienna', 'Vienna, Austria')])),\n             ('typeOfRoad',\n              OrderedDict([('primary', 'primary'),\n                           ('secondary', 'secondary'),\n                           ('tertiary', 'tertiary')]))])"
     },
     "execution_count": 8,
     "metadata": {},
     "output_type": "execute_result"
    }
   ],
   "source": [
    "dimensions"
   ],
   "metadata": {
    "collapsed": false,
    "pycharm": {
     "name": "#%%\n"
    }
   }
  },
  {
   "cell_type": "code",
   "execution_count": 9,
   "outputs": [
    {
     "name": "stderr",
     "output_type": "stream",
     "text": [
      "[overpass] downloading data: [timeout:60][date:\"2013-01-01T00:00:00Z\"][out:json];area(3600285864)->.searchArea;(way[\"highway\"=\"primary\"](area.searchArea);); out count;\n",
      "Exception: [overpass] runtime error: Query timed out in \"query\" at line 1 after 149 seconds.\n",
      "NoneType: None\n",
      "[overpass] error in result (overpass-ab8d1ccdac1100e6547ea12b876ff43936ef8246): [timeout:60][date:\"2013-01-01T00:00:00Z\"][out:json];area(3600285864)->.searchArea;(way[\"highway\"=\"primary\"](area.searchArea);); out count;\n",
      "NoneType: None\n"
     ]
    },
    {
     "ename": "Exception",
     "evalue": "[overpass] error in result (overpass-ab8d1ccdac1100e6547ea12b876ff43936ef8246): [timeout:60][date:\"2013-01-01T00:00:00Z\"][out:json];area(3600285864)->.searchArea;(way[\"highway\"=\"primary\"](area.searchArea);); out count;",
     "output_type": "error",
     "traceback": [
      "\u001B[1;31m---------------------------------------------------------------------------\u001B[0m",
      "\u001B[1;31mException\u001B[0m                                 Traceback (most recent call last)",
      "Input \u001B[1;32mIn [9]\u001B[0m, in \u001B[0;36m<cell line: 9>\u001B[1;34m()\u001B[0m\n\u001B[0;32m      6\u001B[0m     query \u001B[38;5;241m=\u001B[39m overpassQueryBuilder(area\u001B[38;5;241m=\u001B[39mareaId, elementType\u001B[38;5;241m=\u001B[39m\u001B[38;5;124m'\u001B[39m\u001B[38;5;124mway\u001B[39m\u001B[38;5;124m'\u001B[39m, selector\u001B[38;5;241m=\u001B[39m\u001B[38;5;124m'\u001B[39m\u001B[38;5;124m\"\u001B[39m\u001B[38;5;124mhighway\u001B[39m\u001B[38;5;124m\"\u001B[39m\u001B[38;5;124m=\u001B[39m\u001B[38;5;124m\"\u001B[39m\u001B[38;5;124m'\u001B[39m \u001B[38;5;241m+\u001B[39m typeOfRoad \u001B[38;5;241m+\u001B[39m \u001B[38;5;124m'\u001B[39m\u001B[38;5;124m\"\u001B[39m\u001B[38;5;124m'\u001B[39m, out\u001B[38;5;241m=\u001B[39m\u001B[38;5;124m'\u001B[39m\u001B[38;5;124mcount\u001B[39m\u001B[38;5;124m'\u001B[39m)\n\u001B[0;32m      7\u001B[0m     \u001B[38;5;28;01mreturn\u001B[39;00m overpass\u001B[38;5;241m.\u001B[39mquery(query, date\u001B[38;5;241m=\u001B[39myear, timeout\u001B[38;5;241m=\u001B[39m\u001B[38;5;241m60\u001B[39m)\u001B[38;5;241m.\u001B[39mcountElements()\n\u001B[1;32m----> 9\u001B[0m data \u001B[38;5;241m=\u001B[39m \u001B[43mData\u001B[49m\u001B[43m(\u001B[49m\u001B[43mfetch\u001B[49m\u001B[43m,\u001B[49m\u001B[43m \u001B[49m\u001B[43mdimensions\u001B[49m\u001B[43m)\u001B[49m\n",
      "File \u001B[1;32m~\\anaconda3\\envs\\pythonBI\\lib\\site-packages\\OSMPythonTools\\data.py:36\u001B[0m, in \u001B[0;36mData.__init__\u001B[1;34m(self, arg1, arg2)\u001B[0m\n\u001B[0;32m     34\u001B[0m dimensions \u001B[38;5;241m=\u001B[39m arg2\n\u001B[0;32m     35\u001B[0m \u001B[38;5;28mself\u001B[39m\u001B[38;5;241m.\u001B[39m_dimensions \u001B[38;5;241m=\u001B[39m dimensions\n\u001B[1;32m---> 36\u001B[0m data \u001B[38;5;241m=\u001B[39m \u001B[38;5;28;43mlist\u001B[39;49m\u001B[43m(\u001B[49m\u001B[38;5;28;43mmap\u001B[39;49m\u001B[43m(\u001B[49m\u001B[38;5;28;43;01mlambda\u001B[39;49;00m\u001B[43m \u001B[49m\u001B[43mparams\u001B[49m\u001B[43m:\u001B[49m\u001B[43m \u001B[49m\u001B[43mfetch\u001B[49m\u001B[43m(\u001B[49m\u001B[38;5;241;43m*\u001B[39;49m\u001B[43mparams\u001B[49m\u001B[43m)\u001B[49m\u001B[43m,\u001B[49m\u001B[43m \u001B[49m\u001B[43mitertools\u001B[49m\u001B[38;5;241;43m.\u001B[39;49m\u001B[43mproduct\u001B[49m\u001B[43m(\u001B[49m\u001B[38;5;241;43m*\u001B[39;49m\u001B[43m[\u001B[49m\u001B[43m[\u001B[49m\u001B[43mv\u001B[49m\u001B[43m \u001B[49m\u001B[38;5;28;43;01mfor\u001B[39;49;00m\u001B[43m \u001B[49m\u001B[43mv\u001B[49m\u001B[43m \u001B[49m\u001B[38;5;129;43;01min\u001B[39;49;00m\u001B[43m \u001B[49m\u001B[43mdimension\u001B[49m\u001B[38;5;241;43m.\u001B[39;49m\u001B[43mvalues\u001B[49m\u001B[43m(\u001B[49m\u001B[43m)\u001B[49m\u001B[43m]\u001B[49m\u001B[43m \u001B[49m\u001B[38;5;28;43;01mfor\u001B[39;49;00m\u001B[43m \u001B[49m\u001B[43mdimension\u001B[49m\u001B[43m \u001B[49m\u001B[38;5;129;43;01min\u001B[39;49;00m\u001B[43m \u001B[49m\u001B[43mdimensions\u001B[49m\u001B[38;5;241;43m.\u001B[39;49m\u001B[43mvalues\u001B[49m\u001B[43m(\u001B[49m\u001B[43m)\u001B[49m\u001B[43m]\u001B[49m\u001B[43m)\u001B[49m\u001B[43m)\u001B[49m\u001B[43m)\u001B[49m\n\u001B[0;32m     37\u001B[0m \u001B[38;5;28;01mfor\u001B[39;00m dim, v \u001B[38;5;129;01min\u001B[39;00m \u001B[38;5;28mreversed\u001B[39m(dimensions\u001B[38;5;241m.\u001B[39mitems()):\n\u001B[0;32m     38\u001B[0m     data \u001B[38;5;241m=\u001B[39m [data[i:i\u001B[38;5;241m+\u001B[39m\u001B[38;5;28mlen\u001B[39m(v)] \u001B[38;5;28;01mfor\u001B[39;00m i \u001B[38;5;129;01min\u001B[39;00m \u001B[38;5;28mrange\u001B[39m(\u001B[38;5;241m0\u001B[39m, \u001B[38;5;28mlen\u001B[39m(data), \u001B[38;5;28mlen\u001B[39m(v))]\n",
      "File \u001B[1;32m~\\anaconda3\\envs\\pythonBI\\lib\\site-packages\\OSMPythonTools\\data.py:36\u001B[0m, in \u001B[0;36mData.__init__.<locals>.<lambda>\u001B[1;34m(params)\u001B[0m\n\u001B[0;32m     34\u001B[0m dimensions \u001B[38;5;241m=\u001B[39m arg2\n\u001B[0;32m     35\u001B[0m \u001B[38;5;28mself\u001B[39m\u001B[38;5;241m.\u001B[39m_dimensions \u001B[38;5;241m=\u001B[39m dimensions\n\u001B[1;32m---> 36\u001B[0m data \u001B[38;5;241m=\u001B[39m \u001B[38;5;28mlist\u001B[39m(\u001B[38;5;28mmap\u001B[39m(\u001B[38;5;28;01mlambda\u001B[39;00m params: \u001B[43mfetch\u001B[49m\u001B[43m(\u001B[49m\u001B[38;5;241;43m*\u001B[39;49m\u001B[43mparams\u001B[49m\u001B[43m)\u001B[49m, itertools\u001B[38;5;241m.\u001B[39mproduct(\u001B[38;5;241m*\u001B[39m[[v \u001B[38;5;28;01mfor\u001B[39;00m v \u001B[38;5;129;01min\u001B[39;00m dimension\u001B[38;5;241m.\u001B[39mvalues()] \u001B[38;5;28;01mfor\u001B[39;00m dimension \u001B[38;5;129;01min\u001B[39;00m dimensions\u001B[38;5;241m.\u001B[39mvalues()])))\n\u001B[0;32m     37\u001B[0m \u001B[38;5;28;01mfor\u001B[39;00m dim, v \u001B[38;5;129;01min\u001B[39;00m \u001B[38;5;28mreversed\u001B[39m(dimensions\u001B[38;5;241m.\u001B[39mitems()):\n\u001B[0;32m     38\u001B[0m     data \u001B[38;5;241m=\u001B[39m [data[i:i\u001B[38;5;241m+\u001B[39m\u001B[38;5;28mlen\u001B[39m(v)] \u001B[38;5;28;01mfor\u001B[39;00m i \u001B[38;5;129;01min\u001B[39;00m \u001B[38;5;28mrange\u001B[39m(\u001B[38;5;241m0\u001B[39m, \u001B[38;5;28mlen\u001B[39m(data), \u001B[38;5;28mlen\u001B[39m(v))]\n",
      "Input \u001B[1;32mIn [9]\u001B[0m, in \u001B[0;36mfetch\u001B[1;34m(year, city, typeOfRoad)\u001B[0m\n\u001B[0;32m      5\u001B[0m areaId \u001B[38;5;241m=\u001B[39m nominatim\u001B[38;5;241m.\u001B[39mquery(city)\u001B[38;5;241m.\u001B[39mareaId()\n\u001B[0;32m      6\u001B[0m query \u001B[38;5;241m=\u001B[39m overpassQueryBuilder(area\u001B[38;5;241m=\u001B[39mareaId, elementType\u001B[38;5;241m=\u001B[39m\u001B[38;5;124m'\u001B[39m\u001B[38;5;124mway\u001B[39m\u001B[38;5;124m'\u001B[39m, selector\u001B[38;5;241m=\u001B[39m\u001B[38;5;124m'\u001B[39m\u001B[38;5;124m\"\u001B[39m\u001B[38;5;124mhighway\u001B[39m\u001B[38;5;124m\"\u001B[39m\u001B[38;5;124m=\u001B[39m\u001B[38;5;124m\"\u001B[39m\u001B[38;5;124m'\u001B[39m \u001B[38;5;241m+\u001B[39m typeOfRoad \u001B[38;5;241m+\u001B[39m \u001B[38;5;124m'\u001B[39m\u001B[38;5;124m\"\u001B[39m\u001B[38;5;124m'\u001B[39m, out\u001B[38;5;241m=\u001B[39m\u001B[38;5;124m'\u001B[39m\u001B[38;5;124mcount\u001B[39m\u001B[38;5;124m'\u001B[39m)\n\u001B[1;32m----> 7\u001B[0m \u001B[38;5;28;01mreturn\u001B[39;00m \u001B[43moverpass\u001B[49m\u001B[38;5;241;43m.\u001B[39;49m\u001B[43mquery\u001B[49m\u001B[43m(\u001B[49m\u001B[43mquery\u001B[49m\u001B[43m,\u001B[49m\u001B[43m \u001B[49m\u001B[43mdate\u001B[49m\u001B[38;5;241;43m=\u001B[39;49m\u001B[43myear\u001B[49m\u001B[43m,\u001B[49m\u001B[43m \u001B[49m\u001B[43mtimeout\u001B[49m\u001B[38;5;241;43m=\u001B[39;49m\u001B[38;5;241;43m60\u001B[39;49m\u001B[43m)\u001B[49m\u001B[38;5;241m.\u001B[39mcountElements()\n",
      "File \u001B[1;32m~\\anaconda3\\envs\\pythonBI\\lib\\site-packages\\OSMPythonTools\\internal\\cacheObject.py:54\u001B[0m, in \u001B[0;36mCacheObject.query\u001B[1;34m(self, onlyCached, shallow, *args, **kwargs)\u001B[0m\n\u001B[0;32m     52\u001B[0m     msg \u001B[38;5;241m=\u001B[39m \u001B[38;5;124m'\u001B[39m\u001B[38;5;124m[\u001B[39m\u001B[38;5;124m'\u001B[39m \u001B[38;5;241m+\u001B[39m \u001B[38;5;28mself\u001B[39m\u001B[38;5;241m.\u001B[39m_prefix \u001B[38;5;241m+\u001B[39m \u001B[38;5;124m'\u001B[39m\u001B[38;5;124m] error in result (\u001B[39m\u001B[38;5;124m'\u001B[39m \u001B[38;5;241m+\u001B[39m key \u001B[38;5;241m+\u001B[39m \u001B[38;5;124m'\u001B[39m\u001B[38;5;124m): \u001B[39m\u001B[38;5;124m'\u001B[39m \u001B[38;5;241m+\u001B[39m queryString\n\u001B[0;32m     53\u001B[0m     OSMPythonTools\u001B[38;5;241m.\u001B[39mlogger\u001B[38;5;241m.\u001B[39mexception(msg)\n\u001B[1;32m---> 54\u001B[0m     \u001B[38;5;28;01mraise\u001B[39;00m(\u001B[38;5;167;01mException\u001B[39;00m(msg))\n\u001B[0;32m     55\u001B[0m \u001B[38;5;28;01mif\u001B[39;00m makeDownload:\n\u001B[0;32m     56\u001B[0m     CachingStrategy\u001B[38;5;241m.\u001B[39mset(key, data)\n",
      "\u001B[1;31mException\u001B[0m: [overpass] error in result (overpass-ab8d1ccdac1100e6547ea12b876ff43936ef8246): [timeout:60][date:\"2013-01-01T00:00:00Z\"][out:json];area(3600285864)->.searchArea;(way[\"highway\"=\"primary\"](area.searchArea);); out count;"
     ]
    }
   ],
   "source": [
    "nominatim = Nominatim()\n",
    "overpass = Overpass()\n",
    "\n",
    "def fetch(year, city, typeOfRoad):\n",
    "    areaId = nominatim.query(city).areaId()\n",
    "    query = overpassQueryBuilder(area=areaId, elementType='way', selector='\"highway\"=\"' + typeOfRoad + '\"', out='count')\n",
    "    return overpass.query(query, date=year, timeout=60).countElements()\n",
    "\n",
    "data = Data(fetch, dimensions)"
   ],
   "metadata": {
    "collapsed": false,
    "pycharm": {
     "name": "#%%\n"
    }
   }
  },
  {
   "cell_type": "code",
   "execution_count": null,
   "outputs": [],
   "source": [],
   "metadata": {
    "collapsed": false,
    "pycharm": {
     "name": "#%%\n"
    }
   }
  },
  {
   "cell_type": "code",
   "execution_count": null,
   "outputs": [],
   "source": [],
   "metadata": {
    "collapsed": false,
    "pycharm": {
     "name": "#%%\n"
    }
   }
  }
 ],
 "metadata": {
  "kernelspec": {
   "display_name": "Python 3",
   "language": "python",
   "name": "python3"
  },
  "language_info": {
   "codemirror_mode": {
    "name": "ipython",
    "version": 2
   },
   "file_extension": ".py",
   "mimetype": "text/x-python",
   "name": "python",
   "nbconvert_exporter": "python",
   "pygments_lexer": "ipython2",
   "version": "2.7.6"
  }
 },
 "nbformat": 4,
 "nbformat_minor": 0
}