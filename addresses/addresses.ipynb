{
 "cells": [
  {
   "cell_type": "code",
   "execution_count": 1,
   "metadata": {
    "collapsed": true,
    "pycharm": {
     "name": "#%%\n"
    }
   },
   "outputs": [
    {
     "ename": "NameError",
     "evalue": "name '__file__' is not defined",
     "output_type": "error",
     "traceback": [
      "\u001B[1;31m---------------------------------------------------------------------------\u001B[0m",
      "\u001B[1;31mNameError\u001B[0m                                 Traceback (most recent call last)",
      "Input \u001B[1;32mIn [1]\u001B[0m, in \u001B[0;36m<cell line: 6>\u001B[1;34m()\u001B[0m\n\u001B[0;32m      3\u001B[0m \u001B[38;5;28;01mfrom\u001B[39;00m \u001B[38;5;21;01mos\u001B[39;00m \u001B[38;5;28;01mimport\u001B[39;00m path\n\u001B[0;32m      5\u001B[0m \u001B[38;5;66;03m# directory containing the file\u001B[39;00m\n\u001B[1;32m----> 6\u001B[0m file_dir \u001B[38;5;241m=\u001B[39m path\u001B[38;5;241m.\u001B[39mabspath(path\u001B[38;5;241m.\u001B[39mdirname(\u001B[38;5;18;43m__file__\u001B[39;49m))\n\u001B[0;32m      7\u001B[0m \u001B[38;5;28;01mwith\u001B[39;00m \u001B[38;5;28mopen\u001B[39m(path\u001B[38;5;241m.\u001B[39mjoin(file_dir,\u001B[38;5;124m'\u001B[39m\u001B[38;5;124mREADME.md\u001B[39m\u001B[38;5;124m'\u001B[39m),encoding \u001B[38;5;241m=\u001B[39m\u001B[38;5;124m'\u001B[39m\u001B[38;5;124mutf-8\u001B[39m\u001B[38;5;124m'\u001B[39m) \u001B[38;5;28;01mas\u001B[39;00m f:\n\u001B[0;32m      8\u001B[0m     description \u001B[38;5;241m=\u001B[39mf\u001B[38;5;241m.\u001B[39mread()\n",
      "\u001B[1;31mNameError\u001B[0m: name '__file__' is not defined"
     ]
    }
   ],
   "source": [
    "# Table setup\n",
    "from setuptools import setup\n",
    "from os import path\n",
    "\n",
    "# directory containing the file\n",
    "file_dir = path.abspath(path.dirname(__file__))\n",
    "with open(path.join(file_dir,'README.md'),encoding ='utf-8') as f:\n",
    "    description =f.read()\n",
    "\n",
    "setup(\n",
    "    name = 'addresses',\n",
    "    version = '0.1.1',\n",
    "    author = 'Muhoza Ursus Bizumuremyi',\n",
    "    install_requires = ['numpy', 'pandas',\n",
    "                        'pandas_datareader',\n",
    "                        'datetime',\n",
    "                        'beautifulsoup4',\n",
    "                        'geojson',\n",
    "                        'lxml',\n",
    "                        'matplotlib',\n",
    "                        'ujson',\n",
    "                        'xarray',\n",
    "                        'pyspark'\n",
    "                        ],\n",
    "\n",
    "    extra_require ={'test':['pytest','pytest-sugar']},\n",
    "    keywords = ['addresses','address','idjwi','OpenStreetMap','OSM'],\n",
    "    license='MIT',\n",
    "    classifiers=[\n",
    "\t\t\"Intended Audience :: Developers\",\n",
    "\t\t\"License :: OSI Approved :: MIT License\",\n",
    "\t\t\"Programming Language :: Python\",\n",
    "\t\t\"Programming Language :: Python :: 3\",\n",
    "\t\t\"Programming Language :: Python :: 3.6\",\n",
    "\t\t\"Programming Language :: Python :: 3.7\",\n",
    "\t\t\"Programming Language :: Python :: 3.8\",\n",
    "\t\t\"Programming Language :: Python :: 3.9\",\n",
    "        \"Programming Language :: Python :: 3.10\",\n",
    "        \"Programming Language :: Python :: 3.11\",\n",
    "\t\t\"Operating System :: OS Independent\"]\n",
    "\n",
    ")"
   ]
  },
  {
   "cell_type": "code",
   "execution_count": 2,
   "outputs": [],
   "source": [
    "import os"
   ],
   "metadata": {
    "collapsed": false,
    "pycharm": {
     "name": "#%%\n"
    }
   }
  },
  {
   "cell_type": "code",
   "execution_count": 3,
   "outputs": [
    {
     "ename": "NameError",
     "evalue": "name '__file__' is not defined",
     "output_type": "error",
     "traceback": [
      "\u001B[1;31m---------------------------------------------------------------------------\u001B[0m",
      "\u001B[1;31mNameError\u001B[0m                                 Traceback (most recent call last)",
      "Input \u001B[1;32mIn [3]\u001B[0m, in \u001B[0;36m<cell line: 1>\u001B[1;34m()\u001B[0m\n\u001B[1;32m----> 1\u001B[0m \u001B[38;5;28mprint\u001B[39m(\u001B[38;5;18;43m__file__\u001B[39;49m)\n",
      "\u001B[1;31mNameError\u001B[0m: name '__file__' is not defined"
     ]
    }
   ],
   "source": [
    "print(__file__)"
   ],
   "metadata": {
    "collapsed": false,
    "pycharm": {
     "name": "#%%\n"
    }
   }
  },
  {
   "cell_type": "code",
   "execution_count": 4,
   "outputs": [
    {
     "ename": "NameError",
     "evalue": "name '__file__' is not defined",
     "output_type": "error",
     "traceback": [
      "\u001B[1;31m---------------------------------------------------------------------------\u001B[0m",
      "\u001B[1;31mNameError\u001B[0m                                 Traceback (most recent call last)",
      "Input \u001B[1;32mIn [4]\u001B[0m, in \u001B[0;36m<cell line: 1>\u001B[1;34m()\u001B[0m\n\u001B[1;32m----> 1\u001B[0m \u001B[38;5;28mprint\u001B[39m(\u001B[38;5;18;43m__file__\u001B[39;49m)\n",
      "\u001B[1;31mNameError\u001B[0m: name '__file__' is not defined"
     ]
    }
   ],
   "source": [
    "print(__file__)"
   ],
   "metadata": {
    "collapsed": false,
    "pycharm": {
     "name": "#%%\n"
    }
   }
  },
  {
   "cell_type": "code",
   "execution_count": null,
   "outputs": [],
   "source": [],
   "metadata": {
    "collapsed": false,
    "pycharm": {
     "name": "#%%\n"
    }
   }
  }
 ],
 "metadata": {
  "kernelspec": {
   "display_name": "Python 3",
   "language": "python",
   "name": "python3"
  },
  "language_info": {
   "codemirror_mode": {
    "name": "ipython",
    "version": 2
   },
   "file_extension": ".py",
   "mimetype": "text/x-python",
   "name": "python",
   "nbconvert_exporter": "python",
   "pygments_lexer": "ipython2",
   "version": "2.7.6"
  }
 },
 "nbformat": 4,
 "nbformat_minor": 0
}