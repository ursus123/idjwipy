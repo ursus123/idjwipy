{
 "cells": [
  {
   "cell_type": "code",
   "execution_count": 4,
   "metadata": {
    "collapsed": true,
    "pycharm": {
     "name": "#%%\n"
    }
   },
   "outputs": [],
   "source": [
    "import mysql.connector, requests, pandas as pd, urllib.parse"
   ]
  },
  {
   "cell_type": "markdown",
   "source": [
    "By: Muhoza Ursus Bizumuremyi\n",
    "Job: Business Intelligence Analyst, Developer and Architect\n",
    "Email: writetoursus@gmail.com\n"
   ],
   "metadata": {
    "collapsed": false,
    "pycharm": {
     "name": "#%% md\n"
    }
   }
  },
  {
   "cell_type": "markdown",
   "source": [
    "# Extract Data"
   ],
   "metadata": {
    "collapsed": false,
    "pycharm": {
     "name": "#%% md\n"
    }
   }
  },
  {
   "cell_type": "markdown",
   "source": [
    "### Importing Data from Local computer"
   ],
   "metadata": {
    "collapsed": false,
    "pycharm": {
     "name": "#%% md\n"
    }
   }
  },
  {
   "cell_type": "code",
   "execution_count": null,
   "outputs": [],
   "source": [
    "data =  pd.read_csv('data_path') # read csv data\n",
    "data = pd.read_excel('data_path') # read excel data\n",
    "data = pd.read_html('html_link') # read html link\n",
    "data =  pd.read_json('json_data') # read json format data"
   ],
   "metadata": {
    "collapsed": false,
    "pycharm": {
     "name": "#%%\n",
     "is_executing": true
    }
   }
  },
  {
   "cell_type": "markdown",
   "source": [
    "### Importing Data from databases"
   ],
   "metadata": {
    "collapsed": false,
    "pycharm": {
     "name": "#%% md\n"
    }
   }
  },
  {
   "cell_type": "code",
   "execution_count": null,
   "outputs": [],
   "source": [
    "# Wether its mysql or any other Databases, they provide with where to put user, password, database ond host link\n",
    "cnx= mysql.connector.connect(user=['user'],\n",
    "                             password=['password'],\n",
    "                             host=\"host_link\",\n",
    "                             database=\"database\")\n",
    "\n",
    "cursor = cnx.cursor(buffered=True, dictionary=True)\n",
    "\n",
    "sql_statement = '''select * from table1''' # Sql statement\n",
    "\n",
    "cursor.execute(sql_statement)\n",
    "data = cursor.fetchall() #data fetched"
   ],
   "metadata": {
    "collapsed": false,
    "pycharm": {
     "name": "#%%\n"
    }
   }
  },
  {
   "cell_type": "markdown",
   "source": [
    "### Importing Data from Other Systems Using Api Calls"
   ],
   "metadata": {
    "collapsed": false,
    "pycharm": {
     "name": "#%% md\n"
    }
   }
  },
  {
   "cell_type": "code",
   "execution_count": null,
   "outputs": [],
   "source": [
    "response =  requests.get('api_url')\n",
    "resp = response.json()\n",
    "\n",
    "# usually api urls are formated\n",
    "## we can use string formatting to add things we want to the url\n",
    "api_url = 'url_link_get_these{0}'.format(10)\n",
    "\n",
    "# we usually also pass formatted properties\n",
    "# we can urllb.parse that's used to parse urls\n",
    "urllib.parse.urlencode({'properties': ['property1', 'property2']}, doseq=True) #This will make properties insertable to the url"
   ],
   "metadata": {
    "collapsed": false,
    "pycharm": {
     "name": "#%%\n"
    }
   }
  },
  {
   "cell_type": "markdown",
   "source": [
    "## Transfrom Data"
   ],
   "metadata": {
    "collapsed": false,
    "pycharm": {
     "name": "#%% md\n"
    }
   }
  },
  {
   "cell_type": "markdown",
   "source": [
    "### Change data into a DataFrame, Check data metadata, change field metadata"
   ],
   "metadata": {
    "collapsed": false,
    "pycharm": {
     "name": "#%% md\n"
    }
   }
  },
  {
   "cell_type": "code",
   "execution_count": 53,
   "outputs": [
    {
     "data": {
      "text/plain": "        Category currency sellerRating  Duration endDay  ClosePrice  \\\n1967  Automotive       US         2992         5    Sun      359.95   \n1968  Automotive       US           21         5    Sat      610.00   \n1969  Automotive       US         1400         5    Mon      549.00   \n1970  Automotive       US           57         7    Fri      820.00   \n1971  Automotive       US          145         7    Sat      999.00   \n\n      OpenPrice  Competitive?  \n1967     359.95             0  \n1968     300.00             1  \n1969     549.00             0  \n1970     650.00             1  \n1971     999.00             0  ",
      "text/html": "<div>\n<style scoped>\n    .dataframe tbody tr th:only-of-type {\n        vertical-align: middle;\n    }\n\n    .dataframe tbody tr th {\n        vertical-align: top;\n    }\n\n    .dataframe thead th {\n        text-align: right;\n    }\n</style>\n<table border=\"1\" class=\"dataframe\">\n  <thead>\n    <tr style=\"text-align: right;\">\n      <th></th>\n      <th>Category</th>\n      <th>currency</th>\n      <th>sellerRating</th>\n      <th>Duration</th>\n      <th>endDay</th>\n      <th>ClosePrice</th>\n      <th>OpenPrice</th>\n      <th>Competitive?</th>\n    </tr>\n  </thead>\n  <tbody>\n    <tr>\n      <th>1967</th>\n      <td>Automotive</td>\n      <td>US</td>\n      <td>2992</td>\n      <td>5</td>\n      <td>Sun</td>\n      <td>359.95</td>\n      <td>359.95</td>\n      <td>0</td>\n    </tr>\n    <tr>\n      <th>1968</th>\n      <td>Automotive</td>\n      <td>US</td>\n      <td>21</td>\n      <td>5</td>\n      <td>Sat</td>\n      <td>610.00</td>\n      <td>300.00</td>\n      <td>1</td>\n    </tr>\n    <tr>\n      <th>1969</th>\n      <td>Automotive</td>\n      <td>US</td>\n      <td>1400</td>\n      <td>5</td>\n      <td>Mon</td>\n      <td>549.00</td>\n      <td>549.00</td>\n      <td>0</td>\n    </tr>\n    <tr>\n      <th>1970</th>\n      <td>Automotive</td>\n      <td>US</td>\n      <td>57</td>\n      <td>7</td>\n      <td>Fri</td>\n      <td>820.00</td>\n      <td>650.00</td>\n      <td>1</td>\n    </tr>\n    <tr>\n      <th>1971</th>\n      <td>Automotive</td>\n      <td>US</td>\n      <td>145</td>\n      <td>7</td>\n      <td>Sat</td>\n      <td>999.00</td>\n      <td>999.00</td>\n      <td>0</td>\n    </tr>\n  </tbody>\n</table>\n</div>"
     },
     "execution_count": 53,
     "metadata": {},
     "output_type": "execute_result"
    }
   ],
   "source": [
    "# Check Data Metadata\n",
    "data = pd.read_csv('C:/Users/MuhozaBizumuremyi/Documents/idjwi/data/eBayAuctions.csv')\n",
    "\n",
    "# to change the data into a dataframe (in this case it was not necessary)\n",
    "data = pd.DataFrame(data)\n",
    "\n",
    "# Get data Metadata\n",
    "data.dtypes\n",
    "\n",
    "# Change metadata of a field\n",
    "data.sellerRating =  data.sellerRating.astype('str')\n",
    "\n",
    "data.tail(5)"
   ],
   "metadata": {
    "collapsed": false,
    "pycharm": {
     "name": "#%%\n"
    }
   }
  },
  {
   "cell_type": "markdown",
   "source": [
    "### Check, replace or drop null values"
   ],
   "metadata": {
    "collapsed": false,
    "pycharm": {
     "name": "#%% md\n"
    }
   }
  },
  {
   "cell_type": "code",
   "execution_count": 54,
   "outputs": [],
   "source": [
    "# Check null values\n",
    "data.isna().sum()\n",
    "\n",
    "# fill null values\n",
    "data.fillna(0)\n",
    "\n",
    "data.dropna(inplace=True)"
   ],
   "metadata": {
    "collapsed": false,
    "pycharm": {
     "name": "#%%\n"
    }
   }
  },
  {
   "cell_type": "markdown",
   "source": [
    "### Renaming Columns"
   ],
   "metadata": {
    "collapsed": false,
    "pycharm": {
     "name": "#%% md\n"
    }
   }
  },
  {
   "cell_type": "code",
   "execution_count": 55,
   "outputs": [
    {
     "data": {
      "text/plain": "           Category currency sellerRating  Duration endDay  ClosePrice  \\\n0  Music/Movie/Game       US         3249         5    Mon        0.01   \n1  Music/Movie/Game       US         3249         5    Mon        0.01   \n2  Music/Movie/Game       US         3249         5    Mon        0.01   \n3  Music/Movie/Game       US         3249         5    Mon        0.01   \n\n   OpenPrice  Competitive  \n0       0.01            0  \n1       0.01            0  \n2       0.01            0  \n3       0.01            0  ",
      "text/html": "<div>\n<style scoped>\n    .dataframe tbody tr th:only-of-type {\n        vertical-align: middle;\n    }\n\n    .dataframe tbody tr th {\n        vertical-align: top;\n    }\n\n    .dataframe thead th {\n        text-align: right;\n    }\n</style>\n<table border=\"1\" class=\"dataframe\">\n  <thead>\n    <tr style=\"text-align: right;\">\n      <th></th>\n      <th>Category</th>\n      <th>currency</th>\n      <th>sellerRating</th>\n      <th>Duration</th>\n      <th>endDay</th>\n      <th>ClosePrice</th>\n      <th>OpenPrice</th>\n      <th>Competitive</th>\n    </tr>\n  </thead>\n  <tbody>\n    <tr>\n      <th>0</th>\n      <td>Music/Movie/Game</td>\n      <td>US</td>\n      <td>3249</td>\n      <td>5</td>\n      <td>Mon</td>\n      <td>0.01</td>\n      <td>0.01</td>\n      <td>0</td>\n    </tr>\n    <tr>\n      <th>1</th>\n      <td>Music/Movie/Game</td>\n      <td>US</td>\n      <td>3249</td>\n      <td>5</td>\n      <td>Mon</td>\n      <td>0.01</td>\n      <td>0.01</td>\n      <td>0</td>\n    </tr>\n    <tr>\n      <th>2</th>\n      <td>Music/Movie/Game</td>\n      <td>US</td>\n      <td>3249</td>\n      <td>5</td>\n      <td>Mon</td>\n      <td>0.01</td>\n      <td>0.01</td>\n      <td>0</td>\n    </tr>\n    <tr>\n      <th>3</th>\n      <td>Music/Movie/Game</td>\n      <td>US</td>\n      <td>3249</td>\n      <td>5</td>\n      <td>Mon</td>\n      <td>0.01</td>\n      <td>0.01</td>\n      <td>0</td>\n    </tr>\n  </tbody>\n</table>\n</div>"
     },
     "execution_count": 55,
     "metadata": {},
     "output_type": "execute_result"
    }
   ],
   "source": [
    "columns = {'Competitive?':'Competitive'}\n",
    "data.rename(columns=columns, inplace=True)\n",
    "data.head(4)"
   ],
   "metadata": {
    "collapsed": false,
    "pycharm": {
     "name": "#%%\n"
    }
   }
  },
  {
   "cell_type": "markdown",
   "source": [
    "### Selecting data"
   ],
   "metadata": {
    "collapsed": false,
    "pycharm": {
     "name": "#%% md\n"
    }
   }
  },
  {
   "cell_type": "code",
   "execution_count": 56,
   "outputs": [
    {
     "data": {
      "text/plain": "           Category  ClosePrice\n0  Music/Movie/Game        0.01\n1  Music/Movie/Game        0.01\n2  Music/Movie/Game        0.01\n3  Music/Movie/Game        0.01\n4  Music/Movie/Game        0.01",
      "text/html": "<div>\n<style scoped>\n    .dataframe tbody tr th:only-of-type {\n        vertical-align: middle;\n    }\n\n    .dataframe tbody tr th {\n        vertical-align: top;\n    }\n\n    .dataframe thead th {\n        text-align: right;\n    }\n</style>\n<table border=\"1\" class=\"dataframe\">\n  <thead>\n    <tr style=\"text-align: right;\">\n      <th></th>\n      <th>Category</th>\n      <th>ClosePrice</th>\n    </tr>\n  </thead>\n  <tbody>\n    <tr>\n      <th>0</th>\n      <td>Music/Movie/Game</td>\n      <td>0.01</td>\n    </tr>\n    <tr>\n      <th>1</th>\n      <td>Music/Movie/Game</td>\n      <td>0.01</td>\n    </tr>\n    <tr>\n      <th>2</th>\n      <td>Music/Movie/Game</td>\n      <td>0.01</td>\n    </tr>\n    <tr>\n      <th>3</th>\n      <td>Music/Movie/Game</td>\n      <td>0.01</td>\n    </tr>\n    <tr>\n      <th>4</th>\n      <td>Music/Movie/Game</td>\n      <td>0.01</td>\n    </tr>\n  </tbody>\n</table>\n</div>"
     },
     "execution_count": 56,
     "metadata": {},
     "output_type": "execute_result"
    }
   ],
   "source": [
    "# selecting columns\n",
    "data[['Category', 'ClosePrice']].head()"
   ],
   "metadata": {
    "collapsed": false,
    "pycharm": {
     "name": "#%%\n"
    }
   }
  },
  {
   "cell_type": "code",
   "execution_count": 57,
   "outputs": [
    {
     "data": {
      "text/plain": "           Category currency sellerRating  Duration endDay  ClosePrice  \\\n1  Music/Movie/Game       US         3249         5    Mon        0.01   \n2  Music/Movie/Game       US         3249         5    Mon        0.01   \n3  Music/Movie/Game       US         3249         5    Mon        0.01   \n\n   OpenPrice  Competitive  \n1       0.01            0  \n2       0.01            0  \n3       0.01            0  ",
      "text/html": "<div>\n<style scoped>\n    .dataframe tbody tr th:only-of-type {\n        vertical-align: middle;\n    }\n\n    .dataframe tbody tr th {\n        vertical-align: top;\n    }\n\n    .dataframe thead th {\n        text-align: right;\n    }\n</style>\n<table border=\"1\" class=\"dataframe\">\n  <thead>\n    <tr style=\"text-align: right;\">\n      <th></th>\n      <th>Category</th>\n      <th>currency</th>\n      <th>sellerRating</th>\n      <th>Duration</th>\n      <th>endDay</th>\n      <th>ClosePrice</th>\n      <th>OpenPrice</th>\n      <th>Competitive</th>\n    </tr>\n  </thead>\n  <tbody>\n    <tr>\n      <th>1</th>\n      <td>Music/Movie/Game</td>\n      <td>US</td>\n      <td>3249</td>\n      <td>5</td>\n      <td>Mon</td>\n      <td>0.01</td>\n      <td>0.01</td>\n      <td>0</td>\n    </tr>\n    <tr>\n      <th>2</th>\n      <td>Music/Movie/Game</td>\n      <td>US</td>\n      <td>3249</td>\n      <td>5</td>\n      <td>Mon</td>\n      <td>0.01</td>\n      <td>0.01</td>\n      <td>0</td>\n    </tr>\n    <tr>\n      <th>3</th>\n      <td>Music/Movie/Game</td>\n      <td>US</td>\n      <td>3249</td>\n      <td>5</td>\n      <td>Mon</td>\n      <td>0.01</td>\n      <td>0.01</td>\n      <td>0</td>\n    </tr>\n  </tbody>\n</table>\n</div>"
     },
     "execution_count": 57,
     "metadata": {},
     "output_type": "execute_result"
    }
   ],
   "source": [
    "# selecting rows\n",
    "data.loc[1:3]"
   ],
   "metadata": {
    "collapsed": false,
    "pycharm": {
     "name": "#%%\n"
    }
   }
  },
  {
   "cell_type": "code",
   "execution_count": 58,
   "outputs": [
    {
     "data": {
      "text/plain": "  sellerRating  Duration\n1         3249         5\n2         3249         5\n3         3249         5",
      "text/html": "<div>\n<style scoped>\n    .dataframe tbody tr th:only-of-type {\n        vertical-align: middle;\n    }\n\n    .dataframe tbody tr th {\n        vertical-align: top;\n    }\n\n    .dataframe thead th {\n        text-align: right;\n    }\n</style>\n<table border=\"1\" class=\"dataframe\">\n  <thead>\n    <tr style=\"text-align: right;\">\n      <th></th>\n      <th>sellerRating</th>\n      <th>Duration</th>\n    </tr>\n  </thead>\n  <tbody>\n    <tr>\n      <th>1</th>\n      <td>3249</td>\n      <td>5</td>\n    </tr>\n    <tr>\n      <th>2</th>\n      <td>3249</td>\n      <td>5</td>\n    </tr>\n    <tr>\n      <th>3</th>\n      <td>3249</td>\n      <td>5</td>\n    </tr>\n  </tbody>\n</table>\n</div>"
     },
     "execution_count": 58,
     "metadata": {},
     "output_type": "execute_result"
    }
   ],
   "source": [
    "# selecting rows and columns\n",
    "data.iloc[1:4,2:4]"
   ],
   "metadata": {
    "collapsed": false,
    "pycharm": {
     "name": "#%%\n"
    }
   }
  },
  {
   "cell_type": "code",
   "execution_count": 59,
   "outputs": [
    {
     "data": {
      "text/plain": "             Category currency sellerRating  Duration endDay  ClosePrice  \\\n22   Music/Movie/Game       US        37727         7    Mon        0.01   \n83   Music/Movie/Game       US        37727         7    Mon        4.26   \n152             Books       US           30         7    Mon        0.70   \n\n     OpenPrice  Competitive  \n22        0.01            0  \n83        0.01            1  \n152       0.70            0  ",
      "text/html": "<div>\n<style scoped>\n    .dataframe tbody tr th:only-of-type {\n        vertical-align: middle;\n    }\n\n    .dataframe tbody tr th {\n        vertical-align: top;\n    }\n\n    .dataframe thead th {\n        text-align: right;\n    }\n</style>\n<table border=\"1\" class=\"dataframe\">\n  <thead>\n    <tr style=\"text-align: right;\">\n      <th></th>\n      <th>Category</th>\n      <th>currency</th>\n      <th>sellerRating</th>\n      <th>Duration</th>\n      <th>endDay</th>\n      <th>ClosePrice</th>\n      <th>OpenPrice</th>\n      <th>Competitive</th>\n    </tr>\n  </thead>\n  <tbody>\n    <tr>\n      <th>22</th>\n      <td>Music/Movie/Game</td>\n      <td>US</td>\n      <td>37727</td>\n      <td>7</td>\n      <td>Mon</td>\n      <td>0.01</td>\n      <td>0.01</td>\n      <td>0</td>\n    </tr>\n    <tr>\n      <th>83</th>\n      <td>Music/Movie/Game</td>\n      <td>US</td>\n      <td>37727</td>\n      <td>7</td>\n      <td>Mon</td>\n      <td>4.26</td>\n      <td>0.01</td>\n      <td>1</td>\n    </tr>\n    <tr>\n      <th>152</th>\n      <td>Books</td>\n      <td>US</td>\n      <td>30</td>\n      <td>7</td>\n      <td>Mon</td>\n      <td>0.70</td>\n      <td>0.70</td>\n      <td>0</td>\n    </tr>\n  </tbody>\n</table>\n</div>"
     },
     "execution_count": 59,
     "metadata": {},
     "output_type": "execute_result"
    }
   ],
   "source": [
    "# select data with condition\n",
    "data[(data['Duration']>5) & (data['endDay'] == 'Mon')].head(3)\n",
    "## select data where Duration > 5 and endDay is Monday"
   ],
   "metadata": {
    "collapsed": false,
    "pycharm": {
     "name": "#%%\n"
    }
   }
  },
  {
   "cell_type": "markdown",
   "source": [
    "### Making new variables"
   ],
   "metadata": {
    "collapsed": false,
    "pycharm": {
     "name": "#%% md\n"
    }
   }
  },
  {
   "cell_type": "code",
   "execution_count": 60,
   "outputs": [
    {
     "data": {
      "text/plain": "           Category currency sellerRating  Duration endDay  ClosePrice  \\\n0  Music/Movie/Game       US         3249         5    Mon        0.01   \n1  Music/Movie/Game       US         3249         5    Mon        0.01   \n2  Music/Movie/Game       US         3249         5    Mon        0.01   \n\n   OpenPrice  Competitive  change_price  \n0       0.01            0           0.0  \n1       0.01            0           0.0  \n2       0.01            0           0.0  ",
      "text/html": "<div>\n<style scoped>\n    .dataframe tbody tr th:only-of-type {\n        vertical-align: middle;\n    }\n\n    .dataframe tbody tr th {\n        vertical-align: top;\n    }\n\n    .dataframe thead th {\n        text-align: right;\n    }\n</style>\n<table border=\"1\" class=\"dataframe\">\n  <thead>\n    <tr style=\"text-align: right;\">\n      <th></th>\n      <th>Category</th>\n      <th>currency</th>\n      <th>sellerRating</th>\n      <th>Duration</th>\n      <th>endDay</th>\n      <th>ClosePrice</th>\n      <th>OpenPrice</th>\n      <th>Competitive</th>\n      <th>change_price</th>\n    </tr>\n  </thead>\n  <tbody>\n    <tr>\n      <th>0</th>\n      <td>Music/Movie/Game</td>\n      <td>US</td>\n      <td>3249</td>\n      <td>5</td>\n      <td>Mon</td>\n      <td>0.01</td>\n      <td>0.01</td>\n      <td>0</td>\n      <td>0.0</td>\n    </tr>\n    <tr>\n      <th>1</th>\n      <td>Music/Movie/Game</td>\n      <td>US</td>\n      <td>3249</td>\n      <td>5</td>\n      <td>Mon</td>\n      <td>0.01</td>\n      <td>0.01</td>\n      <td>0</td>\n      <td>0.0</td>\n    </tr>\n    <tr>\n      <th>2</th>\n      <td>Music/Movie/Game</td>\n      <td>US</td>\n      <td>3249</td>\n      <td>5</td>\n      <td>Mon</td>\n      <td>0.01</td>\n      <td>0.01</td>\n      <td>0</td>\n      <td>0.0</td>\n    </tr>\n  </tbody>\n</table>\n</div>"
     },
     "execution_count": 60,
     "metadata": {},
     "output_type": "execute_result"
    }
   ],
   "source": [
    "# Making new columns\n",
    "data['change_price'] = data['ClosePrice']-data['OpenPrice']\n",
    "data.head(3)"
   ],
   "metadata": {
    "collapsed": false,
    "pycharm": {
     "name": "#%%\n"
    }
   }
  },
  {
   "cell_type": "code",
   "execution_count": 61,
   "outputs": [
    {
     "data": {
      "text/plain": "               Category currency sellerRating  Duration endDay  ClosePrice  \\\n0  [Music, Movie, Game]       US         3249         5    Mon        0.01   \n1  [Music, Movie, Game]       US         3249         5    Mon        0.01   \n2  [Music, Movie, Game]       US         3249         5    Mon        0.01   \n3  [Music, Movie, Game]       US         3249         5    Mon        0.01   \n\n   OpenPrice  Competitive  change_price  \n0       0.01            0           0.0  \n1       0.01            0           0.0  \n2       0.01            0           0.0  \n3       0.01            0           0.0  ",
      "text/html": "<div>\n<style scoped>\n    .dataframe tbody tr th:only-of-type {\n        vertical-align: middle;\n    }\n\n    .dataframe tbody tr th {\n        vertical-align: top;\n    }\n\n    .dataframe thead th {\n        text-align: right;\n    }\n</style>\n<table border=\"1\" class=\"dataframe\">\n  <thead>\n    <tr style=\"text-align: right;\">\n      <th></th>\n      <th>Category</th>\n      <th>currency</th>\n      <th>sellerRating</th>\n      <th>Duration</th>\n      <th>endDay</th>\n      <th>ClosePrice</th>\n      <th>OpenPrice</th>\n      <th>Competitive</th>\n      <th>change_price</th>\n    </tr>\n  </thead>\n  <tbody>\n    <tr>\n      <th>0</th>\n      <td>[Music, Movie, Game]</td>\n      <td>US</td>\n      <td>3249</td>\n      <td>5</td>\n      <td>Mon</td>\n      <td>0.01</td>\n      <td>0.01</td>\n      <td>0</td>\n      <td>0.0</td>\n    </tr>\n    <tr>\n      <th>1</th>\n      <td>[Music, Movie, Game]</td>\n      <td>US</td>\n      <td>3249</td>\n      <td>5</td>\n      <td>Mon</td>\n      <td>0.01</td>\n      <td>0.01</td>\n      <td>0</td>\n      <td>0.0</td>\n    </tr>\n    <tr>\n      <th>2</th>\n      <td>[Music, Movie, Game]</td>\n      <td>US</td>\n      <td>3249</td>\n      <td>5</td>\n      <td>Mon</td>\n      <td>0.01</td>\n      <td>0.01</td>\n      <td>0</td>\n      <td>0.0</td>\n    </tr>\n    <tr>\n      <th>3</th>\n      <td>[Music, Movie, Game]</td>\n      <td>US</td>\n      <td>3249</td>\n      <td>5</td>\n      <td>Mon</td>\n      <td>0.01</td>\n      <td>0.01</td>\n      <td>0</td>\n      <td>0.0</td>\n    </tr>\n  </tbody>\n</table>\n</div>"
     },
     "execution_count": 61,
     "metadata": {},
     "output_type": "execute_result"
    }
   ],
   "source": [
    "# changing variable category using map function\n",
    "data.Category = data.Category.map(lambda x : x.split('/'))\n",
    "data.head(4)"
   ],
   "metadata": {
    "collapsed": false,
    "pycharm": {
     "name": "#%%\n"
    }
   }
  },
  {
   "cell_type": "code",
   "execution_count": 62,
   "outputs": [
    {
     "data": {
      "text/plain": "                  Category currency sellerRating  Duration endDay  ClosePrice  \\\n0     [Music, Movie, Game]       US         3249         5    Mon        0.01   \n1     [Music, Movie, Game]       US         3249         5    Mon        0.01   \n2     [Music, Movie, Game]       US         3249         5    Mon        0.01   \n3     [Music, Movie, Game]       US         3249         5    Mon        0.01   \n4     [Music, Movie, Game]       US         3249         5    Mon        0.01   \n...                    ...      ...          ...       ...    ...         ...   \n1967          [Automotive]       US         2992         5    Sun      359.95   \n1968          [Automotive]       US           21         5    Sat      610.00   \n1969          [Automotive]       US         1400         5    Mon      549.00   \n1970          [Automotive]       US           57         7    Fri      820.00   \n1971          [Automotive]       US          145         7    Sat      999.00   \n\n      OpenPrice  Competitive  change_price  \n0          0.01            0           0.0  \n1          0.01            0           0.0  \n2          0.01            0           0.0  \n3          0.01            0           0.0  \n4          0.01            0           0.0  \n...         ...          ...           ...  \n1967     359.95            0           0.0  \n1968     300.00            1         310.0  \n1969     549.00            0           0.0  \n1970     650.00            1         170.0  \n1971     999.00            0           0.0  \n\n[1972 rows x 9 columns]",
      "text/html": "<div>\n<style scoped>\n    .dataframe tbody tr th:only-of-type {\n        vertical-align: middle;\n    }\n\n    .dataframe tbody tr th {\n        vertical-align: top;\n    }\n\n    .dataframe thead th {\n        text-align: right;\n    }\n</style>\n<table border=\"1\" class=\"dataframe\">\n  <thead>\n    <tr style=\"text-align: right;\">\n      <th></th>\n      <th>Category</th>\n      <th>currency</th>\n      <th>sellerRating</th>\n      <th>Duration</th>\n      <th>endDay</th>\n      <th>ClosePrice</th>\n      <th>OpenPrice</th>\n      <th>Competitive</th>\n      <th>change_price</th>\n    </tr>\n  </thead>\n  <tbody>\n    <tr>\n      <th>0</th>\n      <td>[Music, Movie, Game]</td>\n      <td>US</td>\n      <td>3249</td>\n      <td>5</td>\n      <td>Mon</td>\n      <td>0.01</td>\n      <td>0.01</td>\n      <td>0</td>\n      <td>0.0</td>\n    </tr>\n    <tr>\n      <th>1</th>\n      <td>[Music, Movie, Game]</td>\n      <td>US</td>\n      <td>3249</td>\n      <td>5</td>\n      <td>Mon</td>\n      <td>0.01</td>\n      <td>0.01</td>\n      <td>0</td>\n      <td>0.0</td>\n    </tr>\n    <tr>\n      <th>2</th>\n      <td>[Music, Movie, Game]</td>\n      <td>US</td>\n      <td>3249</td>\n      <td>5</td>\n      <td>Mon</td>\n      <td>0.01</td>\n      <td>0.01</td>\n      <td>0</td>\n      <td>0.0</td>\n    </tr>\n    <tr>\n      <th>3</th>\n      <td>[Music, Movie, Game]</td>\n      <td>US</td>\n      <td>3249</td>\n      <td>5</td>\n      <td>Mon</td>\n      <td>0.01</td>\n      <td>0.01</td>\n      <td>0</td>\n      <td>0.0</td>\n    </tr>\n    <tr>\n      <th>4</th>\n      <td>[Music, Movie, Game]</td>\n      <td>US</td>\n      <td>3249</td>\n      <td>5</td>\n      <td>Mon</td>\n      <td>0.01</td>\n      <td>0.01</td>\n      <td>0</td>\n      <td>0.0</td>\n    </tr>\n    <tr>\n      <th>...</th>\n      <td>...</td>\n      <td>...</td>\n      <td>...</td>\n      <td>...</td>\n      <td>...</td>\n      <td>...</td>\n      <td>...</td>\n      <td>...</td>\n      <td>...</td>\n    </tr>\n    <tr>\n      <th>1967</th>\n      <td>[Automotive]</td>\n      <td>US</td>\n      <td>2992</td>\n      <td>5</td>\n      <td>Sun</td>\n      <td>359.95</td>\n      <td>359.95</td>\n      <td>0</td>\n      <td>0.0</td>\n    </tr>\n    <tr>\n      <th>1968</th>\n      <td>[Automotive]</td>\n      <td>US</td>\n      <td>21</td>\n      <td>5</td>\n      <td>Sat</td>\n      <td>610.00</td>\n      <td>300.00</td>\n      <td>1</td>\n      <td>310.0</td>\n    </tr>\n    <tr>\n      <th>1969</th>\n      <td>[Automotive]</td>\n      <td>US</td>\n      <td>1400</td>\n      <td>5</td>\n      <td>Mon</td>\n      <td>549.00</td>\n      <td>549.00</td>\n      <td>0</td>\n      <td>0.0</td>\n    </tr>\n    <tr>\n      <th>1970</th>\n      <td>[Automotive]</td>\n      <td>US</td>\n      <td>57</td>\n      <td>7</td>\n      <td>Fri</td>\n      <td>820.00</td>\n      <td>650.00</td>\n      <td>1</td>\n      <td>170.0</td>\n    </tr>\n    <tr>\n      <th>1971</th>\n      <td>[Automotive]</td>\n      <td>US</td>\n      <td>145</td>\n      <td>7</td>\n      <td>Sat</td>\n      <td>999.00</td>\n      <td>999.00</td>\n      <td>0</td>\n      <td>0.0</td>\n    </tr>\n  </tbody>\n</table>\n<p>1972 rows × 9 columns</p>\n</div>"
     },
     "execution_count": 62,
     "metadata": {},
     "output_type": "execute_result"
    }
   ],
   "source": [
    "data"
   ],
   "metadata": {
    "collapsed": false,
    "pycharm": {
     "name": "#%%\n"
    }
   }
  },
  {
   "cell_type": "code",
   "execution_count": 66,
   "outputs": [
    {
     "data": {
      "text/plain": "False"
     },
     "execution_count": 66,
     "metadata": {},
     "output_type": "execute_result"
    }
   ],
   "source": [
    "callable([98,32])"
   ],
   "metadata": {
    "collapsed": false,
    "pycharm": {
     "name": "#%%\n"
    }
   }
  },
  {
   "cell_type": "code",
   "execution_count": null,
   "outputs": [],
   "source": [],
   "metadata": {
    "collapsed": false,
    "pycharm": {
     "name": "#%%\n"
    }
   }
  }
 ],
 "metadata": {
  "kernelspec": {
   "display_name": "Python 3",
   "language": "python",
   "name": "python3"
  },
  "language_info": {
   "codemirror_mode": {
    "name": "ipython",
    "version": 2
   },
   "file_extension": ".py",
   "mimetype": "text/x-python",
   "name": "python",
   "nbconvert_exporter": "python",
   "pygments_lexer": "ipython2",
   "version": "2.7.6"
  }
 },
 "nbformat": 4,
 "nbformat_minor": 0
}