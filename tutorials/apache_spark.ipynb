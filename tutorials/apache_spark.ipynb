{
 "cells": [
  {
   "cell_type": "markdown",
   "source": [
    "### Apache Spark : RDD\n",
    "(They are similar to lists in Python)"
   ],
   "metadata": {
    "collapsed": false,
    "pycharm": {
     "name": "#%% md\n"
    }
   }
  },
  {
   "cell_type": "code",
   "execution_count": 111,
   "outputs": [
    {
     "data": {
      "text/plain": "<pyspark.sql.session.SparkSession at 0x1ec5ce98580>",
      "text/html": "\n            <div>\n                <p><b>SparkSession - in-memory</b></p>\n                \n        <div>\n            <p><b>SparkContext</b></p>\n\n            <p><a href=\"http://10.175.3.53:4040\">Spark UI</a></p>\n\n            <dl>\n              <dt>Version</dt>\n                <dd><code>v3.3.0</code></dd>\n              <dt>Master</dt>\n                <dd><code>local[1]</code></dd>\n              <dt>AppName</dt>\n                <dd><code>rdd</code></dd>\n            </dl>\n        </div>\n        \n            </div>\n        "
     },
     "execution_count": 111,
     "metadata": {},
     "output_type": "execute_result"
    }
   ],
   "source": [
    "import os,sys, pandas as pd, pyspark.pandas as ps, lxml\n",
    "from pyspark.sql import SparkSession\n",
    "from pyspark import SparkFiles\n",
    "from collections import defaultdict\n",
    "os.environ['PYSPARK_DRIVER_PYTHON_OPTS']= \"notebook\"\n",
    "os.environ['PYSPARK_DRIVER_PYTHON'] = sys.executable\n",
    "os.environ['PYSPARK_PYTHON'] = sys.executable\n",
    "\n",
    "\n",
    "#Opening a session\n",
    "spark =  SparkSession.builder.master('local[1]').appName('rdd').getOrCreate()\n",
    "spark"
   ],
   "metadata": {
    "collapsed": false,
    "pycharm": {
     "name": "#%%\n"
    }
   }
  },
  {
   "cell_type": "code",
   "execution_count": 112,
   "outputs": [
    {
     "data": {
      "text/plain": "[1, 3, 5, 'list1', True]"
     },
     "execution_count": 112,
     "metadata": {},
     "output_type": "execute_result"
    }
   ],
   "source": [
    "# Given data in a list create an RDD\n",
    "#Python list\n",
    "data = [1,3,5,'list1',True]\n",
    "#Creating the rdd with spark context\n",
    "rdd = spark.sparkContext.parallelize(data,4)\n",
    "#show data in the rdd\n",
    "rdd.collect()"
   ],
   "metadata": {
    "collapsed": false,
    "pycharm": {
     "name": "#%%\n"
    }
   }
  },
  {
   "cell_type": "code",
   "execution_count": 113,
   "outputs": [
    {
     "data": {
      "text/plain": "4"
     },
     "execution_count": 113,
     "metadata": {},
     "output_type": "execute_result"
    }
   ],
   "source": [
    "# get the number of partitions\n",
    "rdd.getNumPartitions()"
   ],
   "metadata": {
    "collapsed": false,
    "pycharm": {
     "name": "#%%\n"
    }
   }
  },
  {
   "cell_type": "code",
   "execution_count": 114,
   "outputs": [
    {
     "data": {
      "text/plain": "['Income,Lot_Size,Ownership',\n '60,18.4,Owner',\n '85.5,16.8,Owner',\n '64.8,21.6,Owner',\n '61.5,20.8,Owner',\n '87,23.6,Owner',\n '110.1,19.2,Owner',\n '108,17.6,Owner',\n '82.8,22.4,Owner',\n '69,20,Owner',\n '93,20.8,Owner',\n '51,22,Owner',\n '81,20,Owner',\n '75,19.6,Nonowner',\n '52.8,20.8,Nonowner',\n '64.8,17.2,Nonowner',\n '43.2,20.4,Nonowner',\n '84,17.6,Nonowner',\n '49.2,17.6,Nonowner',\n '59.4,16,Nonowner',\n '66,18.4,Nonowner',\n '47.4,16.4,Nonowner',\n '33,18.8,Nonowner',\n '51,14,Nonowner',\n '63,14.8,Nonowner']"
     },
     "execution_count": 114,
     "metadata": {},
     "output_type": "execute_result"
    }
   ],
   "source": [
    "# To create rdd\n",
    "# Import a file from a directory\n",
    "# sparkContext.textFile('',n)\n",
    "# sparkContext.parallelize([],n)\n",
    "# sparkContext.wholeTextFiles('',n) where n is the number of partition\n",
    "data = spark.sparkContext.textFile('C:/Users/MuhozaBizumuremyi/Documents/idjwi/data/RidingMowers.csv',10)\n",
    "# show the data\n",
    "data.collect()"
   ],
   "metadata": {
    "collapsed": false,
    "pycharm": {
     "name": "#%%\n"
    }
   }
  },
  {
   "cell_type": "code",
   "execution_count": 115,
   "outputs": [
    {
     "data": {
      "text/plain": "['bar',\n 'biergarten',\n 'cafe',\n 'fast_food',\n 'food_court',\n 'ice_cream',\n 'pub',\n 'restaurant',\n 'Education',\n 'college',\n 'driving_school',\n 'kindergarten',\n 'language_school',\n 'library',\n 'toy_library',\n 'training',\n 'music_school',\n 'school',\n 'university',\n 'Transportation',\n 'bicycle_parking',\n 'bicycle_repair_station',\n 'bicycle_rental',\n 'boat_rental',\n 'boat_sharing',\n 'bus_station',\n 'car_rental',\n 'car_sharing',\n 'car_wash',\n 'compressed_air',\n 'vehicle_inspection',\n 'charging_station',\n 'ferry_terminal',\n 'fuel',\n 'grit_bin',\n 'motorcycle_parking',\n 'parking',\n 'parking_entrance',\n 'parking_space',\n 'taxi',\n 'Financial',\n 'atm',\n 'bank',\n 'bureau_de_change',\n 'Healthcare',\n 'baby_hatch',\n 'clinic',\n 'dentist',\n 'doctors',\n 'hospital',\n 'nursing_home',\n 'pharmacy',\n 'social_facility',\n 'veterinary',\n 'Entertainment, Arts & Culture',\n 'arts_centre',\n 'brothel',\n 'casino',\n 'cinema',\n 'community_centre',\n 'conference_centre',\n 'events_venue',\n 'fountain',\n 'gambling',\n 'love_hotel',\n 'nightclub',\n 'planetarium',\n 'public_bookcase',\n 'social_centre',\n 'stripclub',\n 'studio',\n 'swingerclub',\n 'theatre',\n 'Public Service',\n 'courthouse',\n 'fire_station',\n 'police',\n 'post_box',\n 'post_depot',\n 'post_office',\n 'prison',\n 'ranger_station',\n 'townhall',\n 'Facilities',\n 'bbq',\n 'bench',\n 'dog_toilet',\n 'dressing_room',\n 'drinking_water',\n 'give_box',\n 'parcel_locker',\n 'shelter',\n 'shower',\n 'telephone',\n 'toilets',\n 'water_point',\n 'watering_place',\n 'Waste Management',\n 'sanitary_dump_station',\n 'recycling',\n 'waste_basket',\n 'waste_disposal',\n 'waste_transfer_station',\n 'Others',\n 'animal_boarding',\n 'animal_breeding',\n 'animal_shelter',\n 'baking_oven',\n 'childcare',\n 'clock',\n 'crematorium',\n 'dive_centre',\n 'funeral_hall',\n 'grave_yard',\n 'hunting_stand',\n 'internet_cafe',\n 'kitchen',\n 'kneipp_water_cure',\n 'lounger',\n 'marketplace',\n 'monastery',\n 'photo_booth',\n 'place_of_mourning',\n 'place_of_worship',\n 'public_bath',\n 'public_building',\n 'refugee_site',\n 'vending_machine',\n 'user defined']"
     },
     "execution_count": 115,
     "metadata": {},
     "output_type": "execute_result"
    }
   ],
   "source": [
    "# show the data\n",
    "rdd = list(spark.sparkContext.parallelize(pd.read_html(\"http://wiki.openstreetmap.org/wiki/Key:amenity\"),10).collect()[1][(             'Value', 'Sustenance')])\n",
    "rdd"
   ],
   "metadata": {
    "collapsed": false,
    "pycharm": {
     "name": "#%%\n"
    }
   }
  },
  {
   "cell_type": "code",
   "execution_count": 115,
   "outputs": [],
   "source": [],
   "metadata": {
    "collapsed": false,
    "pycharm": {
     "name": "#%%\n"
    }
   }
  },
  {
   "cell_type": "code",
   "execution_count": 71,
   "outputs": [],
   "source": [
    "url_all = 'https://wiki.openstreetmap.org/wiki/Map_features'"
   ],
   "metadata": {
    "collapsed": false,
    "pycharm": {
     "name": "#%%\n"
    }
   }
  },
  {
   "cell_type": "code",
   "execution_count": 87,
   "outputs": [],
   "source": [
    "url_ = 'https://wiki.openstreetmap.org/wiki/Key:barrier'"
   ],
   "metadata": {
    "collapsed": false,
    "pycharm": {
     "name": "#%%\n"
    }
   }
  },
  {
   "cell_type": "code",
   "execution_count": 109,
   "outputs": [
    {
     "data": {
      "text/plain": "0                                         cable_barrier\n1                                             city_wall\n2                                                 ditch\n3                                                 fence\n4                                            guard_rail\n5                                              handrail\n6                                                 hedge\n7                                        retaining_wall\n8                                                  wall\n9     Access control on highways (e.g. for blocking ...\n10                                                block\n11                                              bollard\n12                                       border_control\n13                                            bump_gate\n14                                             bus_trap\n15                                          cattle_grid\n16                                              coupure\n17                                        cycle_barrier\n18                                               debris\n19                                             entrance\n20                                full-height_turnstile\n21                                                 gate\n22                                       hampshire_gate\n23                                    height_restrictor\n24                                          horse_stile\n25                                    kent_carriage_gap\n26                                         kissing_gate\n27                                            lift_gate\n28                                   motorcycle_barrier\n29                                              planter\n30                                           sally_port\n31                                         sliding_beam\n32                                         sliding_gate\n33                                               spikes\n34                                                stile\n35                                          sump_buster\n36                                           swing_gate\n37                                           toll_booth\n38                                            turnstile\n39                                                wedge\n40                                          wicket_gate\n41                                                  yes\n42    Linear barriers or access control on highways ...\n43                                                Value\n44                                                  bar\n45                                        barrier_board\n46                                              bollard\n47                                                chain\n48                                       jersey_barrier\n49                                                 kerb\n50                                                  log\n51                                                 rope\n52                                            tank_trap\n53                                                tyres\n54                                         user defined\nName: (Value, Linear barriers (e.g. along a path or road)), dtype: object"
     },
     "execution_count": 109,
     "metadata": {},
     "output_type": "execute_result"
    }
   ],
   "source": [
    "spark.sparkContext.parallelize(pd.read_html(url_),10).collect()[3][('Value', 'Linear barriers (e.g. along a path or road)')]"
   ],
   "metadata": {
    "collapsed": false,
    "pycharm": {
     "name": "#%%\n"
    }
   }
  },
  {
   "cell_type": "code",
   "execution_count": 108,
   "outputs": [
    {
     "name": "stdout",
     "output_type": "stream",
     "text": [
      "('Key', 'Linear barriers (e.g. along a path or road)')\n",
      "('Value', 'Linear barriers (e.g. along a path or road)')\n",
      "('Element', 'Linear barriers (e.g. along a path or road)')\n",
      "('Comment', 'Linear barriers (e.g. along a path or road)')\n",
      "('Comment', 'Linear barriers (e.g. along a path or road).1')\n",
      "('carto-Rendering', 'Linear barriers (e.g. along a path or road)')\n",
      "('Photo', 'Linear barriers (e.g. along a path or road)')\n"
     ]
    }
   ],
   "source": [
    "for i in spark.sparkContext.parallelize(pd.read_html(url_),10).collect()[3]:\n",
    "    print(i)"
   ],
   "metadata": {
    "collapsed": false,
    "pycharm": {
     "name": "#%%\n"
    }
   }
  },
  {
   "cell_type": "code",
   "execution_count": 119,
   "outputs": [],
   "source": [
    "Barrier = spark.sparkContext.parallelize(pd.read_html(url_),10).collect()[3]"
   ],
   "metadata": {
    "collapsed": false,
    "pycharm": {
     "name": "#%%\n"
    }
   }
  },
  {
   "cell_type": "code",
   "execution_count": 117,
   "outputs": [],
   "source": [
    "BarrierList = defaultdict(list)"
   ],
   "metadata": {
    "collapsed": false,
    "pycharm": {
     "name": "#%%\n"
    }
   }
  },
  {
   "cell_type": "code",
   "execution_count": 118,
   "outputs": [
    {
     "data": {
      "text/plain": "defaultdict(list, {})"
     },
     "execution_count": 118,
     "metadata": {},
     "output_type": "execute_result"
    }
   ],
   "source": [
    "BarrierList"
   ],
   "metadata": {
    "collapsed": false,
    "pycharm": {
     "name": "#%%\n"
    }
   }
  },
  {
   "cell_type": "code",
   "execution_count": 128,
   "outputs": [],
   "source": [
    "Barrier.drop([('Element', 'Linear barriers (e.g. along a path or road)')\n",
    "], inplace=True, axis = 1)"
   ],
   "metadata": {
    "collapsed": false,
    "pycharm": {
     "name": "#%%\n"
    }
   }
  },
  {
   "cell_type": "code",
   "execution_count": 130,
   "outputs": [],
   "source": [
    "Barrier.drop([('Comment', 'Linear barriers (e.g. along a path or road).1'),\n",
    "('carto-Rendering', 'Linear barriers (e.g. along a path or road)'),\n",
    "('Photo', 'Linear barriers (e.g. along a path or road)')], inplace=True, axis =1)"
   ],
   "metadata": {
    "collapsed": false,
    "pycharm": {
     "name": "#%%\n"
    }
   }
  },
  {
   "cell_type": "code",
   "execution_count": 131,
   "outputs": [
    {
     "data": {
      "text/plain": "                                                  Key  \\\n          Linear barriers (e.g. along a path or road)   \n0                                             barrier   \n1                                             barrier   \n2                                             barrier   \n3                                             barrier   \n4                                             barrier   \n5                                             barrier   \n6                                             barrier   \n7                                             barrier   \n8                                             barrier   \n9   Access control on highways (e.g. for blocking ...   \n10                                            barrier   \n11                                            barrier   \n12                                            barrier   \n13                                            barrier   \n14                                            barrier   \n15                                            barrier   \n16                                            barrier   \n17                                            barrier   \n18                                            barrier   \n19                                            barrier   \n20                                            barrier   \n21                                            barrier   \n22                                            barrier   \n23                                            barrier   \n24                                            barrier   \n25                                            barrier   \n26                                            barrier   \n27                                            barrier   \n28                                            barrier   \n29                                            barrier   \n30                                            barrier   \n31                                            barrier   \n32                                            barrier   \n33                                            barrier   \n34                                            barrier   \n35                                            barrier   \n36                                            barrier   \n37                                            barrier   \n38                                            barrier   \n39                                            barrier   \n40                                            barrier   \n41                                            barrier   \n42  Linear barriers or access control on highways ...   \n43                                                Key   \n44                                            barrier   \n45                                            barrier   \n46                                            barrier   \n47                                            barrier   \n48                                            barrier   \n49                                            barrier   \n50                                            barrier   \n51                                            barrier   \n52                                            barrier   \n53                                            barrier   \n54                                            barrier   \n\n                                                Value  \\\n          Linear barriers (e.g. along a path or road)   \n0                                       cable_barrier   \n1                                           city_wall   \n2                                               ditch   \n3                                               fence   \n4                                          guard_rail   \n5                                            handrail   \n6                                               hedge   \n7                                      retaining_wall   \n8                                                wall   \n9   Access control on highways (e.g. for blocking ...   \n10                                              block   \n11                                            bollard   \n12                                     border_control   \n13                                          bump_gate   \n14                                           bus_trap   \n15                                        cattle_grid   \n16                                            coupure   \n17                                      cycle_barrier   \n18                                             debris   \n19                                           entrance   \n20                              full-height_turnstile   \n21                                               gate   \n22                                     hampshire_gate   \n23                                  height_restrictor   \n24                                        horse_stile   \n25                                  kent_carriage_gap   \n26                                       kissing_gate   \n27                                          lift_gate   \n28                                 motorcycle_barrier   \n29                                            planter   \n30                                         sally_port   \n31                                       sliding_beam   \n32                                       sliding_gate   \n33                                             spikes   \n34                                              stile   \n35                                        sump_buster   \n36                                         swing_gate   \n37                                         toll_booth   \n38                                          turnstile   \n39                                              wedge   \n40                                        wicket_gate   \n41                                                yes   \n42  Linear barriers or access control on highways ...   \n43                                              Value   \n44                                                bar   \n45                                      barrier_board   \n46                                            bollard   \n47                                              chain   \n48                                     jersey_barrier   \n49                                               kerb   \n50                                                log   \n51                                               rope   \n52                                          tank_trap   \n53                                              tyres   \n54                                       user defined   \n\n                                              Comment  \n          Linear barriers (e.g. along a path or road)  \n0   Also called guard cable. This is a road side o...  \n1   A fortification used to defend a city or settl...  \n2   A trench, ditch or ravine, that is not easily ...  \n3   A structure supported by posts driven into the...  \n4   A guard_rail, also called a crash barrier. Rig...  \n5   Is designed to be grasped by the hand so as to...  \n6   Is a line of closely spaced shrubs and bushes,...  \n7   Retaining walls serve to retain the lateral pr...  \n8   A freestanding solid structure designed to res...  \n9   Access control on highways (e.g. for blocking ...  \n10  A large, solid, immobile block that can be mov...  \n11  One or more solid (usually concrete or metal) ...  \n12  This is a control point at an international bo...  \n13  For description see wikipedia:Bump gate, for a...  \n14                            See wikipedia:Bus trap.  \n15  Bars in the road surface that allow wheeled ve...  \n16  A cut through a flood protection feature (e.g....  \n17  Barriers to bicycle traffic, most typically a ...  \n18  A road is blocked by debris with or without gr...  \n19  A gap in a linear barrier with nothing that li...  \n20  A full-height turnstile, also called HEET-turn...  \n21  An entrance that can be opened or closed to ge...  \n22  A section of wire fence which can be removed t...  \n23                          Combine with maxheight=*.  \n24  A horse stile allows pedestrians and horses to...  \n25  A Kent carriage gap is used by local authoriti...  \n26  A gate which allows people to cross, but not l...  \n27  A lift gate (boom barrier) is a bar, or pole p...  \n28  Barriers along paths that prevent access by mo...  \n29  A plant box, or simply a planter, is a structu...  \n30  A sally port is used to pass through thick or ...  \n31  Something between barrier=sliding_gate and bar...  \n32  Gates open sideways. Usually automatic Combine...  \n33  Spikes on the ground that prevent unauthorized...  \n34  A stile allows pedestrians to cross a wall or ...  \n35  A sump buster is a concrete slab or steel stru...  \n36  Similar to a lift gate but rotates sidewards t...  \n37  A road usage toll or fee is collected here. Us...  \n38  A turnstile (also called baffle gate) is used ...  \n39  A wedge-shaped barrier that rises out of the g...  \n40  A wicket gate, or simply a wicket, is a pedest...  \n41  A barrier which nature cannot be determined; t...  \n42  Linear barriers or access control on highways ...  \n43                                            Comment  \n44  A fixed horizontal bar which blocks motor vehi...  \n45  A barrier board to restrict the passage of a w...  \n46  Solid (usually concrete or metal) pillar or pi...  \n47        A chain used to prevent motorised vehicles.  \n48  A Jersey barrier consists of heavy prefabricat...  \n49  A kerb (or curb) is a short solid barrier, usu...  \n50  Use this when the passage is closed by lumber ...  \n51  A flexible barrier made of fibres, twisted or ...  \n52  Static anti-tank obstacles that can take vario...  \n53  A crash barrier made from tyres stacked on top...  \n54      All commonly used values according to Taginfo  ",
      "text/html": "<div>\n<style scoped>\n    .dataframe tbody tr th:only-of-type {\n        vertical-align: middle;\n    }\n\n    .dataframe tbody tr th {\n        vertical-align: top;\n    }\n\n    .dataframe thead tr th {\n        text-align: left;\n    }\n</style>\n<table border=\"1\" class=\"dataframe\">\n  <thead>\n    <tr>\n      <th></th>\n      <th>Key</th>\n      <th>Value</th>\n      <th>Comment</th>\n    </tr>\n    <tr>\n      <th></th>\n      <th>Linear barriers (e.g. along a path or road)</th>\n      <th>Linear barriers (e.g. along a path or road)</th>\n      <th>Linear barriers (e.g. along a path or road)</th>\n    </tr>\n  </thead>\n  <tbody>\n    <tr>\n      <th>0</th>\n      <td>barrier</td>\n      <td>cable_barrier</td>\n      <td>Also called guard cable. This is a road side o...</td>\n    </tr>\n    <tr>\n      <th>1</th>\n      <td>barrier</td>\n      <td>city_wall</td>\n      <td>A fortification used to defend a city or settl...</td>\n    </tr>\n    <tr>\n      <th>2</th>\n      <td>barrier</td>\n      <td>ditch</td>\n      <td>A trench, ditch or ravine, that is not easily ...</td>\n    </tr>\n    <tr>\n      <th>3</th>\n      <td>barrier</td>\n      <td>fence</td>\n      <td>A structure supported by posts driven into the...</td>\n    </tr>\n    <tr>\n      <th>4</th>\n      <td>barrier</td>\n      <td>guard_rail</td>\n      <td>A guard_rail, also called a crash barrier. Rig...</td>\n    </tr>\n    <tr>\n      <th>5</th>\n      <td>barrier</td>\n      <td>handrail</td>\n      <td>Is designed to be grasped by the hand so as to...</td>\n    </tr>\n    <tr>\n      <th>6</th>\n      <td>barrier</td>\n      <td>hedge</td>\n      <td>Is a line of closely spaced shrubs and bushes,...</td>\n    </tr>\n    <tr>\n      <th>7</th>\n      <td>barrier</td>\n      <td>retaining_wall</td>\n      <td>Retaining walls serve to retain the lateral pr...</td>\n    </tr>\n    <tr>\n      <th>8</th>\n      <td>barrier</td>\n      <td>wall</td>\n      <td>A freestanding solid structure designed to res...</td>\n    </tr>\n    <tr>\n      <th>9</th>\n      <td>Access control on highways (e.g. for blocking ...</td>\n      <td>Access control on highways (e.g. for blocking ...</td>\n      <td>Access control on highways (e.g. for blocking ...</td>\n    </tr>\n    <tr>\n      <th>10</th>\n      <td>barrier</td>\n      <td>block</td>\n      <td>A large, solid, immobile block that can be mov...</td>\n    </tr>\n    <tr>\n      <th>11</th>\n      <td>barrier</td>\n      <td>bollard</td>\n      <td>One or more solid (usually concrete or metal) ...</td>\n    </tr>\n    <tr>\n      <th>12</th>\n      <td>barrier</td>\n      <td>border_control</td>\n      <td>This is a control point at an international bo...</td>\n    </tr>\n    <tr>\n      <th>13</th>\n      <td>barrier</td>\n      <td>bump_gate</td>\n      <td>For description see wikipedia:Bump gate, for a...</td>\n    </tr>\n    <tr>\n      <th>14</th>\n      <td>barrier</td>\n      <td>bus_trap</td>\n      <td>See wikipedia:Bus trap.</td>\n    </tr>\n    <tr>\n      <th>15</th>\n      <td>barrier</td>\n      <td>cattle_grid</td>\n      <td>Bars in the road surface that allow wheeled ve...</td>\n    </tr>\n    <tr>\n      <th>16</th>\n      <td>barrier</td>\n      <td>coupure</td>\n      <td>A cut through a flood protection feature (e.g....</td>\n    </tr>\n    <tr>\n      <th>17</th>\n      <td>barrier</td>\n      <td>cycle_barrier</td>\n      <td>Barriers to bicycle traffic, most typically a ...</td>\n    </tr>\n    <tr>\n      <th>18</th>\n      <td>barrier</td>\n      <td>debris</td>\n      <td>A road is blocked by debris with or without gr...</td>\n    </tr>\n    <tr>\n      <th>19</th>\n      <td>barrier</td>\n      <td>entrance</td>\n      <td>A gap in a linear barrier with nothing that li...</td>\n    </tr>\n    <tr>\n      <th>20</th>\n      <td>barrier</td>\n      <td>full-height_turnstile</td>\n      <td>A full-height turnstile, also called HEET-turn...</td>\n    </tr>\n    <tr>\n      <th>21</th>\n      <td>barrier</td>\n      <td>gate</td>\n      <td>An entrance that can be opened or closed to ge...</td>\n    </tr>\n    <tr>\n      <th>22</th>\n      <td>barrier</td>\n      <td>hampshire_gate</td>\n      <td>A section of wire fence which can be removed t...</td>\n    </tr>\n    <tr>\n      <th>23</th>\n      <td>barrier</td>\n      <td>height_restrictor</td>\n      <td>Combine with maxheight=*.</td>\n    </tr>\n    <tr>\n      <th>24</th>\n      <td>barrier</td>\n      <td>horse_stile</td>\n      <td>A horse stile allows pedestrians and horses to...</td>\n    </tr>\n    <tr>\n      <th>25</th>\n      <td>barrier</td>\n      <td>kent_carriage_gap</td>\n      <td>A Kent carriage gap is used by local authoriti...</td>\n    </tr>\n    <tr>\n      <th>26</th>\n      <td>barrier</td>\n      <td>kissing_gate</td>\n      <td>A gate which allows people to cross, but not l...</td>\n    </tr>\n    <tr>\n      <th>27</th>\n      <td>barrier</td>\n      <td>lift_gate</td>\n      <td>A lift gate (boom barrier) is a bar, or pole p...</td>\n    </tr>\n    <tr>\n      <th>28</th>\n      <td>barrier</td>\n      <td>motorcycle_barrier</td>\n      <td>Barriers along paths that prevent access by mo...</td>\n    </tr>\n    <tr>\n      <th>29</th>\n      <td>barrier</td>\n      <td>planter</td>\n      <td>A plant box, or simply a planter, is a structu...</td>\n    </tr>\n    <tr>\n      <th>30</th>\n      <td>barrier</td>\n      <td>sally_port</td>\n      <td>A sally port is used to pass through thick or ...</td>\n    </tr>\n    <tr>\n      <th>31</th>\n      <td>barrier</td>\n      <td>sliding_beam</td>\n      <td>Something between barrier=sliding_gate and bar...</td>\n    </tr>\n    <tr>\n      <th>32</th>\n      <td>barrier</td>\n      <td>sliding_gate</td>\n      <td>Gates open sideways. Usually automatic Combine...</td>\n    </tr>\n    <tr>\n      <th>33</th>\n      <td>barrier</td>\n      <td>spikes</td>\n      <td>Spikes on the ground that prevent unauthorized...</td>\n    </tr>\n    <tr>\n      <th>34</th>\n      <td>barrier</td>\n      <td>stile</td>\n      <td>A stile allows pedestrians to cross a wall or ...</td>\n    </tr>\n    <tr>\n      <th>35</th>\n      <td>barrier</td>\n      <td>sump_buster</td>\n      <td>A sump buster is a concrete slab or steel stru...</td>\n    </tr>\n    <tr>\n      <th>36</th>\n      <td>barrier</td>\n      <td>swing_gate</td>\n      <td>Similar to a lift gate but rotates sidewards t...</td>\n    </tr>\n    <tr>\n      <th>37</th>\n      <td>barrier</td>\n      <td>toll_booth</td>\n      <td>A road usage toll or fee is collected here. Us...</td>\n    </tr>\n    <tr>\n      <th>38</th>\n      <td>barrier</td>\n      <td>turnstile</td>\n      <td>A turnstile (also called baffle gate) is used ...</td>\n    </tr>\n    <tr>\n      <th>39</th>\n      <td>barrier</td>\n      <td>wedge</td>\n      <td>A wedge-shaped barrier that rises out of the g...</td>\n    </tr>\n    <tr>\n      <th>40</th>\n      <td>barrier</td>\n      <td>wicket_gate</td>\n      <td>A wicket gate, or simply a wicket, is a pedest...</td>\n    </tr>\n    <tr>\n      <th>41</th>\n      <td>barrier</td>\n      <td>yes</td>\n      <td>A barrier which nature cannot be determined; t...</td>\n    </tr>\n    <tr>\n      <th>42</th>\n      <td>Linear barriers or access control on highways ...</td>\n      <td>Linear barriers or access control on highways ...</td>\n      <td>Linear barriers or access control on highways ...</td>\n    </tr>\n    <tr>\n      <th>43</th>\n      <td>Key</td>\n      <td>Value</td>\n      <td>Comment</td>\n    </tr>\n    <tr>\n      <th>44</th>\n      <td>barrier</td>\n      <td>bar</td>\n      <td>A fixed horizontal bar which blocks motor vehi...</td>\n    </tr>\n    <tr>\n      <th>45</th>\n      <td>barrier</td>\n      <td>barrier_board</td>\n      <td>A barrier board to restrict the passage of a w...</td>\n    </tr>\n    <tr>\n      <th>46</th>\n      <td>barrier</td>\n      <td>bollard</td>\n      <td>Solid (usually concrete or metal) pillar or pi...</td>\n    </tr>\n    <tr>\n      <th>47</th>\n      <td>barrier</td>\n      <td>chain</td>\n      <td>A chain used to prevent motorised vehicles.</td>\n    </tr>\n    <tr>\n      <th>48</th>\n      <td>barrier</td>\n      <td>jersey_barrier</td>\n      <td>A Jersey barrier consists of heavy prefabricat...</td>\n    </tr>\n    <tr>\n      <th>49</th>\n      <td>barrier</td>\n      <td>kerb</td>\n      <td>A kerb (or curb) is a short solid barrier, usu...</td>\n    </tr>\n    <tr>\n      <th>50</th>\n      <td>barrier</td>\n      <td>log</td>\n      <td>Use this when the passage is closed by lumber ...</td>\n    </tr>\n    <tr>\n      <th>51</th>\n      <td>barrier</td>\n      <td>rope</td>\n      <td>A flexible barrier made of fibres, twisted or ...</td>\n    </tr>\n    <tr>\n      <th>52</th>\n      <td>barrier</td>\n      <td>tank_trap</td>\n      <td>Static anti-tank obstacles that can take vario...</td>\n    </tr>\n    <tr>\n      <th>53</th>\n      <td>barrier</td>\n      <td>tyres</td>\n      <td>A crash barrier made from tyres stacked on top...</td>\n    </tr>\n    <tr>\n      <th>54</th>\n      <td>barrier</td>\n      <td>user defined</td>\n      <td>All commonly used values according to Taginfo</td>\n    </tr>\n  </tbody>\n</table>\n</div>"
     },
     "execution_count": 131,
     "metadata": {},
     "output_type": "execute_result"
    }
   ],
   "source": [
    "Barrier.rename({})"
   ],
   "metadata": {
    "collapsed": false,
    "pycharm": {
     "name": "#%%\n"
    }
   }
  },
  {
   "cell_type": "code",
   "execution_count": 145,
   "outputs": [
    {
     "ename": "ValueError",
     "evalue": "The truth value of a Series is ambiguous. Use a.empty, a.bool(), a.item(), a.any() or a.all().",
     "output_type": "error",
     "traceback": [
      "\u001B[1;31m---------------------------------------------------------------------------\u001B[0m",
      "\u001B[1;31mValueError\u001B[0m                                Traceback (most recent call last)",
      "Input \u001B[1;32mIn [145]\u001B[0m, in \u001B[0;36m<cell line: 1>\u001B[1;34m()\u001B[0m\n\u001B[0;32m      1\u001B[0m \u001B[38;5;28;01mfor\u001B[39;00m i \u001B[38;5;129;01min\u001B[39;00m \u001B[38;5;28mdict\u001B[39m(Barrier)\u001B[38;5;241m.\u001B[39mkeys():\n\u001B[1;32m----> 2\u001B[0m     \u001B[38;5;28;01mif\u001B[39;00m \u001B[43mBarrier\u001B[49m\u001B[43m[\u001B[49m\u001B[43m(\u001B[49m\u001B[38;5;124;43m'\u001B[39;49m\u001B[38;5;124;43mKey\u001B[39;49m\u001B[38;5;124;43m'\u001B[39;49m\u001B[43m,\u001B[49m\u001B[43m \u001B[49m\u001B[38;5;124;43m'\u001B[39;49m\u001B[38;5;124;43mLinear barriers (e.g. along a path or road)\u001B[39;49m\u001B[38;5;124;43m'\u001B[39;49m\u001B[43m)\u001B[49m\u001B[43m]\u001B[49m\u001B[43m \u001B[49m\u001B[38;5;241;43m==\u001B[39;49m\u001B[43m \u001B[49m\u001B[38;5;124;43m'\u001B[39;49m\u001B[38;5;124;43mbarrier\u001B[39;49m\u001B[38;5;124;43m'\u001B[39;49m:\n\u001B[0;32m      3\u001B[0m         BarrierList[\u001B[38;5;124m'\u001B[39m\u001B[38;5;124mkey\u001B[39m\u001B[38;5;124m'\u001B[39m]\u001B[38;5;241m.\u001B[39mappend(Barrier[(\u001B[38;5;124m'\u001B[39m\u001B[38;5;124mKey\u001B[39m\u001B[38;5;124m'\u001B[39m, \u001B[38;5;124m'\u001B[39m\u001B[38;5;124mLinear barriers (e.g. along a path or road)\u001B[39m\u001B[38;5;124m'\u001B[39m)])\n\u001B[0;32m      4\u001B[0m         BarrierList[\u001B[38;5;124m'\u001B[39m\u001B[38;5;124mtype\u001B[39m\u001B[38;5;124m'\u001B[39m]\u001B[38;5;241m.\u001B[39mappend(Barrier[\u001B[38;5;124m'\u001B[39m\u001B[38;5;124mlinear barriers\u001B[39m\u001B[38;5;124m'\u001B[39m])\n",
      "File \u001B[1;32m~\\anaconda3\\envs\\python310\\lib\\site-packages\\pandas\\core\\generic.py:1526\u001B[0m, in \u001B[0;36mNDFrame.__nonzero__\u001B[1;34m(self)\u001B[0m\n\u001B[0;32m   1524\u001B[0m \u001B[38;5;129m@final\u001B[39m\n\u001B[0;32m   1525\u001B[0m \u001B[38;5;28;01mdef\u001B[39;00m \u001B[38;5;21m__nonzero__\u001B[39m(\u001B[38;5;28mself\u001B[39m) \u001B[38;5;241m-\u001B[39m\u001B[38;5;241m>\u001B[39m NoReturn:\n\u001B[1;32m-> 1526\u001B[0m     \u001B[38;5;28;01mraise\u001B[39;00m \u001B[38;5;167;01mValueError\u001B[39;00m(\n\u001B[0;32m   1527\u001B[0m         \u001B[38;5;124mf\u001B[39m\u001B[38;5;124m\"\u001B[39m\u001B[38;5;124mThe truth value of a \u001B[39m\u001B[38;5;132;01m{\u001B[39;00m\u001B[38;5;28mtype\u001B[39m(\u001B[38;5;28mself\u001B[39m)\u001B[38;5;241m.\u001B[39m\u001B[38;5;18m__name__\u001B[39m\u001B[38;5;132;01m}\u001B[39;00m\u001B[38;5;124m is ambiguous. \u001B[39m\u001B[38;5;124m\"\u001B[39m\n\u001B[0;32m   1528\u001B[0m         \u001B[38;5;124m\"\u001B[39m\u001B[38;5;124mUse a.empty, a.bool(), a.item(), a.any() or a.all().\u001B[39m\u001B[38;5;124m\"\u001B[39m\n\u001B[0;32m   1529\u001B[0m     )\n",
      "\u001B[1;31mValueError\u001B[0m: The truth value of a Series is ambiguous. Use a.empty, a.bool(), a.item(), a.any() or a.all()."
     ]
    }
   ],
   "source": [
    "for i in dict(Barrier).keys():\n",
    "    if Barrier[('Key', 'Linear barriers (e.g. along a path or road)')] == 'barrier':\n",
    "        BarrierList['key'].append(Barrier[('Key', 'Linear barriers (e.g. along a path or road)')])\n",
    "        BarrierList['type'].append(Barrier['linear barriers'])\n",
    "        BarrierList['Value'].append(Barrier[Barrier[('Value', 'Linear barriers (e.g. along a path or road)')]])\n",
    "        BarrierList['Comment'].append(Barrier[Barrier[('Comment', 'Linear barriers (e.g. along a path or road)')]])\n",
    "    elif Barrier[('Key', 'Linear barriers (e.g. along a path or road)')] == 'Key':\n",
    "        pass\n",
    "\n",
    "    else:\n",
    "        BarrierList['key'].append(Barrier['barrier'])\n",
    "        BarrierList['type'].append(Barrier[('Key', 'Linear barriers (e.g. along a path or road)')])\n",
    "        BarrierList['Value'].append(Barrier[Barrier[('Value', 'Linear barriers (e.g. along a path or road)')]])\n",
    "        BarrierList['Comment'].append(Barrier[Barrier[('Comment', 'Linear barriers (e.g. along a path or road)')]])\n"
   ],
   "metadata": {
    "collapsed": false,
    "pycharm": {
     "name": "#%%\n"
    }
   }
  },
  {
   "cell_type": "code",
   "execution_count": 161,
   "outputs": [
    {
     "name": "stdout",
     "output_type": "stream",
     "text": [
      "Linear barriers (e.g. along a path or road)\n",
      "Linear barriers (e.g. along a path or road)\n",
      "Linear barriers (e.g. along a path or road)\n"
     ]
    }
   ],
   "source": [
    "for i,j in dict(Barrier):\n",
    "     print(j)"
   ],
   "metadata": {
    "collapsed": false,
    "pycharm": {
     "name": "#%%\n"
    }
   }
  },
  {
   "cell_type": "code",
   "execution_count": 163,
   "outputs": [
    {
     "name": "stdout",
     "output_type": "stream",
     "text": [
      "0                                               barrier\n",
      "1                                               barrier\n",
      "2                                               barrier\n",
      "3                                               barrier\n",
      "4                                               barrier\n",
      "5                                               barrier\n",
      "6                                               barrier\n",
      "7                                               barrier\n",
      "8                                               barrier\n",
      "9     Access control on highways (e.g. for blocking ...\n",
      "10                                              barrier\n",
      "11                                              barrier\n",
      "12                                              barrier\n",
      "13                                              barrier\n",
      "14                                              barrier\n",
      "15                                              barrier\n",
      "16                                              barrier\n",
      "17                                              barrier\n",
      "18                                              barrier\n",
      "19                                              barrier\n",
      "20                                              barrier\n",
      "21                                              barrier\n",
      "22                                              barrier\n",
      "23                                              barrier\n",
      "24                                              barrier\n",
      "25                                              barrier\n",
      "26                                              barrier\n",
      "27                                              barrier\n",
      "28                                              barrier\n",
      "29                                              barrier\n",
      "30                                              barrier\n",
      "31                                              barrier\n",
      "32                                              barrier\n",
      "33                                              barrier\n",
      "34                                              barrier\n",
      "35                                              barrier\n",
      "36                                              barrier\n",
      "37                                              barrier\n",
      "38                                              barrier\n",
      "39                                              barrier\n",
      "40                                              barrier\n",
      "41                                              barrier\n",
      "42    Linear barriers or access control on highways ...\n",
      "43                                                  Key\n",
      "44                                              barrier\n",
      "45                                              barrier\n",
      "46                                              barrier\n",
      "47                                              barrier\n",
      "48                                              barrier\n",
      "49                                              barrier\n",
      "50                                              barrier\n",
      "51                                              barrier\n",
      "52                                              barrier\n",
      "53                                              barrier\n",
      "54                                              barrier\n",
      "Name: Linear barriers (e.g. along a path or road), dtype: object\n",
      "0                                         cable_barrier\n",
      "1                                             city_wall\n",
      "2                                                 ditch\n",
      "3                                                 fence\n",
      "4                                            guard_rail\n",
      "5                                              handrail\n",
      "6                                                 hedge\n",
      "7                                        retaining_wall\n",
      "8                                                  wall\n",
      "9     Access control on highways (e.g. for blocking ...\n",
      "10                                                block\n",
      "11                                              bollard\n",
      "12                                       border_control\n",
      "13                                            bump_gate\n",
      "14                                             bus_trap\n",
      "15                                          cattle_grid\n",
      "16                                              coupure\n",
      "17                                        cycle_barrier\n",
      "18                                               debris\n",
      "19                                             entrance\n",
      "20                                full-height_turnstile\n",
      "21                                                 gate\n",
      "22                                       hampshire_gate\n",
      "23                                    height_restrictor\n",
      "24                                          horse_stile\n",
      "25                                    kent_carriage_gap\n",
      "26                                         kissing_gate\n",
      "27                                            lift_gate\n",
      "28                                   motorcycle_barrier\n",
      "29                                              planter\n",
      "30                                           sally_port\n",
      "31                                         sliding_beam\n",
      "32                                         sliding_gate\n",
      "33                                               spikes\n",
      "34                                                stile\n",
      "35                                          sump_buster\n",
      "36                                           swing_gate\n",
      "37                                           toll_booth\n",
      "38                                            turnstile\n",
      "39                                                wedge\n",
      "40                                          wicket_gate\n",
      "41                                                  yes\n",
      "42    Linear barriers or access control on highways ...\n",
      "43                                                Value\n",
      "44                                                  bar\n",
      "45                                        barrier_board\n",
      "46                                              bollard\n",
      "47                                                chain\n",
      "48                                       jersey_barrier\n",
      "49                                                 kerb\n",
      "50                                                  log\n",
      "51                                                 rope\n",
      "52                                            tank_trap\n",
      "53                                                tyres\n",
      "54                                         user defined\n",
      "Name: Linear barriers (e.g. along a path or road), dtype: object\n",
      "0     Also called guard cable. This is a road side o...\n",
      "1     A fortification used to defend a city or settl...\n",
      "2     A trench, ditch or ravine, that is not easily ...\n",
      "3     A structure supported by posts driven into the...\n",
      "4     A guard_rail, also called a crash barrier. Rig...\n",
      "5     Is designed to be grasped by the hand so as to...\n",
      "6     Is a line of closely spaced shrubs and bushes,...\n",
      "7     Retaining walls serve to retain the lateral pr...\n",
      "8     A freestanding solid structure designed to res...\n",
      "9     Access control on highways (e.g. for blocking ...\n",
      "10    A large, solid, immobile block that can be mov...\n",
      "11    One or more solid (usually concrete or metal) ...\n",
      "12    This is a control point at an international bo...\n",
      "13    For description see wikipedia:Bump gate, for a...\n",
      "14                              See wikipedia:Bus trap.\n",
      "15    Bars in the road surface that allow wheeled ve...\n",
      "16    A cut through a flood protection feature (e.g....\n",
      "17    Barriers to bicycle traffic, most typically a ...\n",
      "18    A road is blocked by debris with or without gr...\n",
      "19    A gap in a linear barrier with nothing that li...\n",
      "20    A full-height turnstile, also called HEET-turn...\n",
      "21    An entrance that can be opened or closed to ge...\n",
      "22    A section of wire fence which can be removed t...\n",
      "23                            Combine with maxheight=*.\n",
      "24    A horse stile allows pedestrians and horses to...\n",
      "25    A Kent carriage gap is used by local authoriti...\n",
      "26    A gate which allows people to cross, but not l...\n",
      "27    A lift gate (boom barrier) is a bar, or pole p...\n",
      "28    Barriers along paths that prevent access by mo...\n",
      "29    A plant box, or simply a planter, is a structu...\n",
      "30    A sally port is used to pass through thick or ...\n",
      "31    Something between barrier=sliding_gate and bar...\n",
      "32    Gates open sideways. Usually automatic Combine...\n",
      "33    Spikes on the ground that prevent unauthorized...\n",
      "34    A stile allows pedestrians to cross a wall or ...\n",
      "35    A sump buster is a concrete slab or steel stru...\n",
      "36    Similar to a lift gate but rotates sidewards t...\n",
      "37    A road usage toll or fee is collected here. Us...\n",
      "38    A turnstile (also called baffle gate) is used ...\n",
      "39    A wedge-shaped barrier that rises out of the g...\n",
      "40    A wicket gate, or simply a wicket, is a pedest...\n",
      "41    A barrier which nature cannot be determined; t...\n",
      "42    Linear barriers or access control on highways ...\n",
      "43                                              Comment\n",
      "44    A fixed horizontal bar which blocks motor vehi...\n",
      "45    A barrier board to restrict the passage of a w...\n",
      "46    Solid (usually concrete or metal) pillar or pi...\n",
      "47          A chain used to prevent motorised vehicles.\n",
      "48    A Jersey barrier consists of heavy prefabricat...\n",
      "49    A kerb (or curb) is a short solid barrier, usu...\n",
      "50    Use this when the passage is closed by lumber ...\n",
      "51    A flexible barrier made of fibres, twisted or ...\n",
      "52    Static anti-tank obstacles that can take vario...\n",
      "53    A crash barrier made from tyres stacked on top...\n",
      "54        All commonly used values according to Taginfo\n",
      "Name: Linear barriers (e.g. along a path or road), dtype: object\n"
     ]
    }
   ],
   "source": [
    "for i,j in dict(Barrier):\n",
    "     print(Barrier[i]['Linear barriers (e.g. along a path or road)'])"
   ],
   "metadata": {
    "collapsed": false,
    "pycharm": {
     "name": "#%%\n"
    }
   }
  },
  {
   "cell_type": "code",
   "execution_count": null,
   "outputs": [],
   "source": [],
   "metadata": {
    "collapsed": false,
    "pycharm": {
     "name": "#%%\n"
    }
   }
  }
 ],
 "metadata": {
  "kernelspec": {
   "display_name": "Python 3",
   "language": "python",
   "name": "python3"
  },
  "language_info": {
   "codemirror_mode": {
    "name": "ipython",
    "version": 2
   },
   "file_extension": ".py",
   "mimetype": "text/x-python",
   "name": "python",
   "nbconvert_exporter": "python",
   "pygments_lexer": "ipython2",
   "version": "2.7.6"
  }
 },
 "nbformat": 4,
 "nbformat_minor": 0
}