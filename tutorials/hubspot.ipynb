{
 "cells": [
  {
   "cell_type": "code",
   "execution_count": 64,
   "metadata": {
    "collapsed": true,
    "pycharm": {
     "name": "#%%\n"
    }
   },
   "outputs": [],
   "source": [
    "import pandas as pd, requests, json, os, sys\n",
    "from collections import defaultdict\n",
    "import pyspark\n",
    "from pyspark.sql import SparkSession\n",
    "os.environ['PYSPARK_DRIVER_PYTHON_OPTS']= \"notebook\"\n",
    "os.environ['PYSPARK_DRIVER_PYTHON'] = sys.executable\n",
    "os.environ['PYSPARK_PYTHON'] = sys.executable"
   ]
  },
  {
   "cell_type": "code",
   "execution_count": 65,
   "outputs": [],
   "source": [
    "headers = {\n",
    "  'content-type': 'application/json',\n",
    "  'authorization': 'Bearer %s' % 'pat-na1-4e34bf97-a96f-4036-858f-5ae089a3655e'\n",
    "}"
   ],
   "metadata": {
    "collapsed": false,
    "pycharm": {
     "name": "#%%\n"
    }
   }
  },
  {
   "cell_type": "code",
   "execution_count": 66,
   "outputs": [],
   "source": [
    "def get_properties(object):\n",
    "    url = 'https://api.hubapi.com/crm/v3/properties/{0}'.format(object)\n",
    "    headers = {'content-type': 'application/json',\n",
    "                'authorization': 'Bearer %s' % 'pat-na1-4e34bf97-a96f-4036-858f-5ae089a3655e'}\n",
    "    response = requests.get(url, headers = headers)\n",
    "    resp = response.json()['results']\n",
    "    properties = defaultdict(list)\n",
    "    for i in resp:\n",
    "        properties['name'].append(i['name'])\n",
    "        properties['label'].append(i['label'])\n",
    "        properties['fieldType'].append(i['fieldType'])\n",
    "        properties['groupName'].append(i['groupName'])\n",
    "    return pd.DataFrame(properties)"
   ],
   "metadata": {
    "collapsed": false,
    "pycharm": {
     "name": "#%%\n"
    }
   }
  },
  {
   "cell_type": "code",
   "execution_count": 67,
   "outputs": [
    {
     "data": {
      "text/plain": "                                   name                               label  \\\n0                       account_name__c                        Account Name   \n1           any_additional_information_         Any Additional Information?   \n2               average_daily_census__c                Average Daily Census   \n3                       branch_location                     Branch Location   \n4    caller_s_title_position_at_hospice  Caller's Title/Position at Hospice   \n..                                  ...                                 ...   \n314                            industry                            Industry   \n315                 associatedcompanyid       Primary Associated Company ID   \n316        associatedcompanylastupdated     Associated Company Last Updated   \n317     hs_predictivecontactscorebucket                         Lead Rating   \n318           hs_predictivecontactscore               Predictive Lead Score   \n\n    fieldType              groupName  \n0        text  salesforceinformation  \n1    textarea     contactinformation  \n2      number  salesforceinformation  \n3        text     contactinformation  \n4        text     contactinformation  \n..        ...                    ...  \n314      text     contactinformation  \n315    number     contactinformation  \n316    number     contactinformation  \n317     radio     contactinformation  \n318    number     contactinformation  \n\n[319 rows x 4 columns]",
      "text/html": "<div>\n<style scoped>\n    .dataframe tbody tr th:only-of-type {\n        vertical-align: middle;\n    }\n\n    .dataframe tbody tr th {\n        vertical-align: top;\n    }\n\n    .dataframe thead th {\n        text-align: right;\n    }\n</style>\n<table border=\"1\" class=\"dataframe\">\n  <thead>\n    <tr style=\"text-align: right;\">\n      <th></th>\n      <th>name</th>\n      <th>label</th>\n      <th>fieldType</th>\n      <th>groupName</th>\n    </tr>\n  </thead>\n  <tbody>\n    <tr>\n      <th>0</th>\n      <td>account_name__c</td>\n      <td>Account Name</td>\n      <td>text</td>\n      <td>salesforceinformation</td>\n    </tr>\n    <tr>\n      <th>1</th>\n      <td>any_additional_information_</td>\n      <td>Any Additional Information?</td>\n      <td>textarea</td>\n      <td>contactinformation</td>\n    </tr>\n    <tr>\n      <th>2</th>\n      <td>average_daily_census__c</td>\n      <td>Average Daily Census</td>\n      <td>number</td>\n      <td>salesforceinformation</td>\n    </tr>\n    <tr>\n      <th>3</th>\n      <td>branch_location</td>\n      <td>Branch Location</td>\n      <td>text</td>\n      <td>contactinformation</td>\n    </tr>\n    <tr>\n      <th>4</th>\n      <td>caller_s_title_position_at_hospice</td>\n      <td>Caller's Title/Position at Hospice</td>\n      <td>text</td>\n      <td>contactinformation</td>\n    </tr>\n    <tr>\n      <th>...</th>\n      <td>...</td>\n      <td>...</td>\n      <td>...</td>\n      <td>...</td>\n    </tr>\n    <tr>\n      <th>314</th>\n      <td>industry</td>\n      <td>Industry</td>\n      <td>text</td>\n      <td>contactinformation</td>\n    </tr>\n    <tr>\n      <th>315</th>\n      <td>associatedcompanyid</td>\n      <td>Primary Associated Company ID</td>\n      <td>number</td>\n      <td>contactinformation</td>\n    </tr>\n    <tr>\n      <th>316</th>\n      <td>associatedcompanylastupdated</td>\n      <td>Associated Company Last Updated</td>\n      <td>number</td>\n      <td>contactinformation</td>\n    </tr>\n    <tr>\n      <th>317</th>\n      <td>hs_predictivecontactscorebucket</td>\n      <td>Lead Rating</td>\n      <td>radio</td>\n      <td>contactinformation</td>\n    </tr>\n    <tr>\n      <th>318</th>\n      <td>hs_predictivecontactscore</td>\n      <td>Predictive Lead Score</td>\n      <td>number</td>\n      <td>contactinformation</td>\n    </tr>\n  </tbody>\n</table>\n<p>319 rows × 4 columns</p>\n</div>"
     },
     "execution_count": 67,
     "metadata": {},
     "output_type": "execute_result"
    }
   ],
   "source": [
    "get_properties('contacts')"
   ],
   "metadata": {
    "collapsed": false,
    "pycharm": {
     "name": "#%%\n"
    }
   }
  },
  {
   "cell_type": "code",
   "execution_count": 67,
   "outputs": [],
   "source": [],
   "metadata": {
    "collapsed": false,
    "pycharm": {
     "name": "#%%\n"
    }
   }
  },
  {
   "cell_type": "code",
   "execution_count": 67,
   "outputs": [],
   "source": [],
   "metadata": {
    "collapsed": false,
    "pycharm": {
     "name": "#%%\n"
    }
   }
  },
  {
   "cell_type": "code",
   "execution_count": null,
   "outputs": [],
   "source": [],
   "metadata": {
    "collapsed": false,
    "pycharm": {
     "name": "#%%\n"
    }
   }
  }
 ],
 "metadata": {
  "kernelspec": {
   "display_name": "Python 3",
   "language": "python",
   "name": "python3"
  },
  "language_info": {
   "codemirror_mode": {
    "name": "ipython",
    "version": 2
   },
   "file_extension": ".py",
   "mimetype": "text/x-python",
   "name": "python",
   "nbconvert_exporter": "python",
   "pygments_lexer": "ipython2",
   "version": "2.7.6"
  }
 },
 "nbformat": 4,
 "nbformat_minor": 0
}